{
 "cells": [
  {
   "cell_type": "markdown",
   "id": "bdd9f416-39b9-4839-b900-4f4ff7828fdb",
   "metadata": {},
   "source": [
    "# Simple Linear Regression in Machine Learning"
   ]
  },
  {
   "cell_type": "code",
   "execution_count": 19,
   "id": "7e68e9e0-c667-475f-84ef-23264fd1b2ca",
   "metadata": {},
   "outputs": [],
   "source": [
    "import numpy as np\n",
    "import matplotlib.pyplot as plt\n",
    "import pandas as pd"
   ]
  },
  {
   "cell_type": "code",
   "execution_count": 20,
   "id": "ffc3192d-a9ab-4ddc-8d6d-4d57c90ab89b",
   "metadata": {},
   "outputs": [],
   "source": [
    "data_set = pd.read_csv('salary_data.csv')"
   ]
  },
  {
   "cell_type": "code",
   "execution_count": 21,
   "id": "0d554760-b9de-4c48-bbbb-d44abcbbceb2",
   "metadata": {},
   "outputs": [
    {
     "name": "stdout",
     "output_type": "stream",
     "text": [
      "YearsExperience    1\n",
      "Salary             1\n",
      "dtype: int64\n"
     ]
    }
   ],
   "source": [
    "print(data_set.isnull().sum())"
   ]
  },
  {
   "cell_type": "code",
   "execution_count": 22,
   "id": "21cc7925-080a-47ba-a4e9-699070037474",
   "metadata": {},
   "outputs": [],
   "source": [
    "data_set = data_set.dropna()"
   ]
  },
  {
   "cell_type": "code",
   "execution_count": 23,
   "id": "9d5229b7-515b-456b-b97f-98ba0fb22a4a",
   "metadata": {},
   "outputs": [
    {
     "data": {
      "text/plain": [
       "(30, 2)"
      ]
     },
     "execution_count": 23,
     "metadata": {},
     "output_type": "execute_result"
    }
   ],
   "source": [
    "data_set.shape"
   ]
  },
  {
   "cell_type": "code",
   "execution_count": 24,
   "id": "d003a9ad-3763-499a-9f0b-f81b622431cd",
   "metadata": {},
   "outputs": [
    {
     "data": {
      "text/html": [
       "<div>\n",
       "<style scoped>\n",
       "    .dataframe tbody tr th:only-of-type {\n",
       "        vertical-align: middle;\n",
       "    }\n",
       "\n",
       "    .dataframe tbody tr th {\n",
       "        vertical-align: top;\n",
       "    }\n",
       "\n",
       "    .dataframe thead th {\n",
       "        text-align: right;\n",
       "    }\n",
       "</style>\n",
       "<table border=\"1\" class=\"dataframe\">\n",
       "  <thead>\n",
       "    <tr style=\"text-align: right;\">\n",
       "      <th></th>\n",
       "      <th>YearsExperience</th>\n",
       "      <th>Salary</th>\n",
       "    </tr>\n",
       "  </thead>\n",
       "  <tbody>\n",
       "    <tr>\n",
       "      <th>0</th>\n",
       "      <td>1.1</td>\n",
       "      <td>39343.0</td>\n",
       "    </tr>\n",
       "    <tr>\n",
       "      <th>1</th>\n",
       "      <td>1.3</td>\n",
       "      <td>46205.0</td>\n",
       "    </tr>\n",
       "    <tr>\n",
       "      <th>2</th>\n",
       "      <td>1.5</td>\n",
       "      <td>37731.0</td>\n",
       "    </tr>\n",
       "    <tr>\n",
       "      <th>3</th>\n",
       "      <td>2.0</td>\n",
       "      <td>43525.0</td>\n",
       "    </tr>\n",
       "    <tr>\n",
       "      <th>4</th>\n",
       "      <td>2.2</td>\n",
       "      <td>39891.0</td>\n",
       "    </tr>\n",
       "    <tr>\n",
       "      <th>5</th>\n",
       "      <td>2.9</td>\n",
       "      <td>56642.0</td>\n",
       "    </tr>\n",
       "    <tr>\n",
       "      <th>6</th>\n",
       "      <td>3.0</td>\n",
       "      <td>60150.0</td>\n",
       "    </tr>\n",
       "    <tr>\n",
       "      <th>7</th>\n",
       "      <td>3.2</td>\n",
       "      <td>54445.0</td>\n",
       "    </tr>\n",
       "    <tr>\n",
       "      <th>8</th>\n",
       "      <td>3.2</td>\n",
       "      <td>64445.0</td>\n",
       "    </tr>\n",
       "    <tr>\n",
       "      <th>9</th>\n",
       "      <td>3.7</td>\n",
       "      <td>57189.0</td>\n",
       "    </tr>\n",
       "  </tbody>\n",
       "</table>\n",
       "</div>"
      ],
      "text/plain": [
       "   YearsExperience   Salary\n",
       "0              1.1  39343.0\n",
       "1              1.3  46205.0\n",
       "2              1.5  37731.0\n",
       "3              2.0  43525.0\n",
       "4              2.2  39891.0\n",
       "5              2.9  56642.0\n",
       "6              3.0  60150.0\n",
       "7              3.2  54445.0\n",
       "8              3.2  64445.0\n",
       "9              3.7  57189.0"
      ]
     },
     "execution_count": 24,
     "metadata": {},
     "output_type": "execute_result"
    }
   ],
   "source": [
    "data_set.head(10)"
   ]
  },
  {
   "cell_type": "code",
   "execution_count": 25,
   "id": "9dc6f247-0ae9-4350-a104-c03f959a4d9e",
   "metadata": {},
   "outputs": [],
   "source": [
    "x = data_set.iloc[:,:-1].values\n",
    "y = data_set.iloc[:,1].values"
   ]
  },
  {
   "cell_type": "code",
   "execution_count": 26,
   "id": "c4b9097c-be4d-460f-96d3-e961d46bbad0",
   "metadata": {},
   "outputs": [
    {
     "name": "stdout",
     "output_type": "stream",
     "text": [
      "[[ 1.1]\n",
      " [ 1.3]\n",
      " [ 1.5]\n",
      " [ 2. ]\n",
      " [ 2.2]\n",
      " [ 2.9]\n",
      " [ 3. ]\n",
      " [ 3.2]\n",
      " [ 3.2]\n",
      " [ 3.7]\n",
      " [ 3.9]\n",
      " [ 4. ]\n",
      " [ 4. ]\n",
      " [ 4.1]\n",
      " [ 4.5]\n",
      " [ 4.9]\n",
      " [ 5.1]\n",
      " [ 5.3]\n",
      " [ 5.9]\n",
      " [ 6. ]\n",
      " [ 6.8]\n",
      " [ 7.1]\n",
      " [ 7.9]\n",
      " [ 8.2]\n",
      " [ 8.7]\n",
      " [ 9. ]\n",
      " [ 9.5]\n",
      " [ 9.6]\n",
      " [10.3]\n",
      " [10.5]]\n"
     ]
    }
   ],
   "source": [
    "print(x)"
   ]
  },
  {
   "cell_type": "code",
   "execution_count": 27,
   "id": "3df9359a-ce94-428e-bc34-3ddf82e24380",
   "metadata": {},
   "outputs": [],
   "source": [
    "from sklearn.model_selection import train_test_split\n",
    "x_train,x_test,y_train,y_test = train_test_split(x,y,test_size = 1/3,random_state = 0)"
   ]
  },
  {
   "cell_type": "code",
   "execution_count": 28,
   "id": "12e41222-5800-44d9-80fa-b893d6d01472",
   "metadata": {},
   "outputs": [
    {
     "data": {
      "text/html": [
       "<style>#sk-container-id-1 {color: black;background-color: white;}#sk-container-id-1 pre{padding: 0;}#sk-container-id-1 div.sk-toggleable {background-color: white;}#sk-container-id-1 label.sk-toggleable__label {cursor: pointer;display: block;width: 100%;margin-bottom: 0;padding: 0.3em;box-sizing: border-box;text-align: center;}#sk-container-id-1 label.sk-toggleable__label-arrow:before {content: \"▸\";float: left;margin-right: 0.25em;color: #696969;}#sk-container-id-1 label.sk-toggleable__label-arrow:hover:before {color: black;}#sk-container-id-1 div.sk-estimator:hover label.sk-toggleable__label-arrow:before {color: black;}#sk-container-id-1 div.sk-toggleable__content {max-height: 0;max-width: 0;overflow: hidden;text-align: left;background-color: #f0f8ff;}#sk-container-id-1 div.sk-toggleable__content pre {margin: 0.2em;color: black;border-radius: 0.25em;background-color: #f0f8ff;}#sk-container-id-1 input.sk-toggleable__control:checked~div.sk-toggleable__content {max-height: 200px;max-width: 100%;overflow: auto;}#sk-container-id-1 input.sk-toggleable__control:checked~label.sk-toggleable__label-arrow:before {content: \"▾\";}#sk-container-id-1 div.sk-estimator input.sk-toggleable__control:checked~label.sk-toggleable__label {background-color: #d4ebff;}#sk-container-id-1 div.sk-label input.sk-toggleable__control:checked~label.sk-toggleable__label {background-color: #d4ebff;}#sk-container-id-1 input.sk-hidden--visually {border: 0;clip: rect(1px 1px 1px 1px);clip: rect(1px, 1px, 1px, 1px);height: 1px;margin: -1px;overflow: hidden;padding: 0;position: absolute;width: 1px;}#sk-container-id-1 div.sk-estimator {font-family: monospace;background-color: #f0f8ff;border: 1px dotted black;border-radius: 0.25em;box-sizing: border-box;margin-bottom: 0.5em;}#sk-container-id-1 div.sk-estimator:hover {background-color: #d4ebff;}#sk-container-id-1 div.sk-parallel-item::after {content: \"\";width: 100%;border-bottom: 1px solid gray;flex-grow: 1;}#sk-container-id-1 div.sk-label:hover label.sk-toggleable__label {background-color: #d4ebff;}#sk-container-id-1 div.sk-serial::before {content: \"\";position: absolute;border-left: 1px solid gray;box-sizing: border-box;top: 0;bottom: 0;left: 50%;z-index: 0;}#sk-container-id-1 div.sk-serial {display: flex;flex-direction: column;align-items: center;background-color: white;padding-right: 0.2em;padding-left: 0.2em;position: relative;}#sk-container-id-1 div.sk-item {position: relative;z-index: 1;}#sk-container-id-1 div.sk-parallel {display: flex;align-items: stretch;justify-content: center;background-color: white;position: relative;}#sk-container-id-1 div.sk-item::before, #sk-container-id-1 div.sk-parallel-item::before {content: \"\";position: absolute;border-left: 1px solid gray;box-sizing: border-box;top: 0;bottom: 0;left: 50%;z-index: -1;}#sk-container-id-1 div.sk-parallel-item {display: flex;flex-direction: column;z-index: 1;position: relative;background-color: white;}#sk-container-id-1 div.sk-parallel-item:first-child::after {align-self: flex-end;width: 50%;}#sk-container-id-1 div.sk-parallel-item:last-child::after {align-self: flex-start;width: 50%;}#sk-container-id-1 div.sk-parallel-item:only-child::after {width: 0;}#sk-container-id-1 div.sk-dashed-wrapped {border: 1px dashed gray;margin: 0 0.4em 0.5em 0.4em;box-sizing: border-box;padding-bottom: 0.4em;background-color: white;}#sk-container-id-1 div.sk-label label {font-family: monospace;font-weight: bold;display: inline-block;line-height: 1.2em;}#sk-container-id-1 div.sk-label-container {text-align: center;}#sk-container-id-1 div.sk-container {/* jupyter's `normalize.less` sets `[hidden] { display: none; }` but bootstrap.min.css set `[hidden] { display: none !important; }` so we also need the `!important` here to be able to override the default hidden behavior on the sphinx rendered scikit-learn.org. See: https://github.com/scikit-learn/scikit-learn/issues/21755 */display: inline-block !important;position: relative;}#sk-container-id-1 div.sk-text-repr-fallback {display: none;}</style><div id=\"sk-container-id-1\" class=\"sk-top-container\"><div class=\"sk-text-repr-fallback\"><pre>LinearRegression()</pre><b>In a Jupyter environment, please rerun this cell to show the HTML representation or trust the notebook. <br />On GitHub, the HTML representation is unable to render, please try loading this page with nbviewer.org.</b></div><div class=\"sk-container\" hidden><div class=\"sk-item\"><div class=\"sk-estimator sk-toggleable\"><input class=\"sk-toggleable__control sk-hidden--visually\" id=\"sk-estimator-id-1\" type=\"checkbox\" checked><label for=\"sk-estimator-id-1\" class=\"sk-toggleable__label sk-toggleable__label-arrow\">LinearRegression</label><div class=\"sk-toggleable__content\"><pre>LinearRegression()</pre></div></div></div></div></div>"
      ],
      "text/plain": [
       "LinearRegression()"
      ]
     },
     "execution_count": 28,
     "metadata": {},
     "output_type": "execute_result"
    }
   ],
   "source": [
    "from sklearn.linear_model import LinearRegression\n",
    "regressor = LinearRegression()\n",
    "regressor.fit(x_train,y_train)"
   ]
  },
  {
   "cell_type": "code",
   "execution_count": 30,
   "id": "7544cb3b-b7ce-4300-8482-6d0b0164769c",
   "metadata": {},
   "outputs": [],
   "source": [
    "y_pred = regressor.predict(x_test)\n",
    "x_pred = regressor.predict(x_train)"
   ]
  },
  {
   "cell_type": "code",
   "execution_count": 31,
   "id": "b13d9058-81f6-4449-b373-39adc5ed2596",
   "metadata": {},
   "outputs": [
    {
     "name": "stdout",
     "output_type": "stream",
     "text": [
      "[ 40835.10590871 123079.39940819  65134.55626083  63265.36777221\n",
      " 115602.64545369 108125.8914992  116537.23969801  64199.96201652\n",
      "  76349.68719258 100649.1375447 ]\n"
     ]
    }
   ],
   "source": [
    "print(y_pred)"
   ]
  },
  {
   "cell_type": "code",
   "execution_count": 32,
   "id": "9189f8fa-ced1-4e40-8df9-5533ee8656d8",
   "metadata": {},
   "outputs": [
    {
     "data": {
      "image/png": "[encoded data removed]",
      "text/plain": [
       "<Figure size 640x480 with 1 Axes>"
      ]
     },
     "metadata": {},
     "output_type": "display_data"
    }
   ],
   "source": [
    "plt.scatter(x_train,y_train,color = \"red\")\n",
    "plt.plot(x_train,x_pred, color = 'blue')\n",
    "plt.title('Salary vs Experence(training dataset)')\n",
    "plt.xlabel('Years of Experience')\n",
    "plt.ylabel('Salary')\n",
    "plt.show()"
   ]
  },
  {
   "cell_type": "code",
   "execution_count": 33,
   "id": "f30cae4b-d169-4869-811d-edbf1ed19fc4",
   "metadata": {},
   "outputs": [
    {
     "data": {
      "image/png": "[encoded data removed]",
      "text/plain": [
       "<Figure size 640x480 with 1 Axes>"
      ]
     },
     "metadata": {},
     "output_type": "display_data"
    }
   ],
   "source": [
    "plt.scatter(x_test, y_test, color=\"blue\")   \n",
    "plt.plot(x_train, x_pred, color=\"red\")    \n",
    "plt.title(\"Salary vs Experience (Test Dataset)\")  \n",
    "plt.xlabel(\"Years of Experience\")  \n",
    "plt.ylabel(\"Salary(In Rupees)\")  \n",
    "plt.show()  "
   ]
  },
  {
   "cell_type": "markdown",
   "id": "55c30f16-7455-425a-9f5b-d579c6c3ca8e",
   "metadata": {},
   "source": [
    "# Multiple Linear Regression"
   ]
  },
  {
   "cell_type": "code",
   "execution_count": 70,
   "id": "3ecce0dd-7e07-414c-aa92-54523a3032cd",
   "metadata": {},
   "outputs": [],
   "source": [
    "import numpy as np\n",
    "import pandas as pd\n",
    "import matplotlib.pyplot as plt"
   ]
  },
  {
   "cell_type": "code",
   "execution_count": 71,
   "id": "0436e2f9-ebf3-4720-b78a-8fac858fa27b",
   "metadata": {},
   "outputs": [],
   "source": [
    "data_set = pd.read_csv('House Price India.csv')"
   ]
  },
  {
   "cell_type": "code",
   "execution_count": 72,
   "id": "a3c8747b-809c-4d68-befa-c057072ccd6b",
   "metadata": {},
   "outputs": [
    {
     "name": "stdout",
     "output_type": "stream",
     "text": [
      "           id   Date  number of bedrooms  number of bathrooms  living area  \\\n",
      "0  6762810145  42491                   5                 2.50         3650   \n",
      "1  6762810635  42491                   4                 2.50         2920   \n",
      "2  6762810998  42491                   5                 2.75         2910   \n",
      "3  6762812605  42491                   4                 2.50         3310   \n",
      "4  6762812919  42491                   3                 2.00         2710   \n",
      "\n",
      "   lot area  number of floors  waterfront present  number of views  \\\n",
      "0      9050               2.0                   0                4   \n",
      "1      4000               1.5                   0                0   \n",
      "2      9480               1.5                   0                0   \n",
      "3     42998               2.0                   0                0   \n",
      "4      4500               1.5                   0                0   \n",
      "\n",
      "   condition of the house  ...  Built Year  Renovation Year  Postal Code  \\\n",
      "0                       5  ...        1921                0       122003   \n",
      "1                       5  ...        1909                0       122004   \n",
      "2                       3  ...        1939                0       122004   \n",
      "3                       3  ...        2001                0       122005   \n",
      "4                       4  ...        1929                0       122006   \n",
      "\n",
      "   Lattitude  Longitude  living_area_renov  lot_area_renov  \\\n",
      "0    52.8645   -114.557               2880            5400   \n",
      "1    52.8878   -114.470               2470            4000   \n",
      "2    52.8852   -114.468               2940            6600   \n",
      "3    52.9532   -114.321               3350           42847   \n",
      "4    52.9047   -114.485               2060            4500   \n",
      "\n",
      "   Number of schools nearby  Distance from the airport    Price  \n",
      "0                         2                         58  2380000  \n",
      "1                         2                         51  1400000  \n",
      "2                         1                         53  1200000  \n",
      "3                         3                         76   838000  \n",
      "4                         1                         51   805000  \n",
      "\n",
      "[5 rows x 23 columns]\n"
     ]
    }
   ],
   "source": [
    "print(data_set.head(5))"
   ]
  },
  {
   "cell_type": "code",
   "execution_count": 73,
   "id": "c8a717c7-f41a-4595-b813-9d501e8e7721",
   "metadata": {},
   "outputs": [
    {
     "data": {
      "text/plain": [
       "id                                       14620\n",
       "Date                                     14620\n",
       "number of bedrooms                       14620\n",
       "number of bathrooms                      14620\n",
       "living area                              14620\n",
       "lot area                                 14620\n",
       "number of floors                         14620\n",
       "waterfront present                       14620\n",
       "number of views                          14620\n",
       "condition of the house                   14620\n",
       "grade of the house                       14620\n",
       "Area of the house(excluding basement)    14620\n",
       "Area of the basement                     14620\n",
       "Built Year                               14620\n",
       "Renovation Year                          14620\n",
       "Postal Code                              14620\n",
       "Lattitude                                14620\n",
       "Longitude                                14620\n",
       "living_area_renov                        14620\n",
       "lot_area_renov                           14620\n",
       "Number of schools nearby                 14620\n",
       "Distance from the airport                14620\n",
       "Price                                    14620\n",
       "dtype: int64"
      ]
     },
     "execution_count": 73,
     "metadata": {},
     "output_type": "execute_result"
    }
   ],
   "source": [
    "data_set.count()"
   ]
  },
  {
   "cell_type": "code",
   "execution_count": 74,
   "id": "915508ca-da88-4ab0-90d5-d9176e99e2bc",
   "metadata": {},
   "outputs": [
    {
     "data": {
      "text/plain": [
       "id                                       14620\n",
       "Date                                     14620\n",
       "number of bedrooms                       14620\n",
       "number of bathrooms                      14620\n",
       "living area                              14620\n",
       "lot area                                 14620\n",
       "number of floors                         14620\n",
       "waterfront present                       14620\n",
       "number of views                          14620\n",
       "condition of the house                   14620\n",
       "grade of the house                       14620\n",
       "Area of the house(excluding basement)    14620\n",
       "Area of the basement                     14620\n",
       "Built Year                               14620\n",
       "Renovation Year                          14620\n",
       "Postal Code                              14620\n",
       "Lattitude                                14620\n",
       "Longitude                                14620\n",
       "living_area_renov                        14620\n",
       "lot_area_renov                           14620\n",
       "Number of schools nearby                 14620\n",
       "Distance from the airport                14620\n",
       "Price                                    14620\n",
       "dtype: int64"
      ]
     },
     "execution_count": 74,
     "metadata": {},
     "output_type": "execute_result"
    }
   ],
   "source": [
    "data_set = data_set.drop_duplicates()\n",
    "data_set.count()"
   ]
  },
  {
   "cell_type": "code",
   "execution_count": 76,
   "id": "7e2ad6b8-e9a8-475f-9042-afd6bc000604",
   "metadata": {},
   "outputs": [
    {
     "data": {
      "text/plain": [
       "(14620, 23)"
      ]
     },
     "execution_count": 76,
     "metadata": {},
     "output_type": "execute_result"
    }
   ],
   "source": [
    "data_set.shape"
   ]
  },
  {
   "cell_type": "code",
   "execution_count": 77,
   "id": "51249822-28a0-45a5-894e-f1c21f87970a",
   "metadata": {},
   "outputs": [
    {
     "name": "stdout",
     "output_type": "stream",
     "text": [
      "id                                       0\n",
      "Date                                     0\n",
      "number of bedrooms                       0\n",
      "number of bathrooms                      0\n",
      "living area                              0\n",
      "lot area                                 0\n",
      "number of floors                         0\n",
      "waterfront present                       0\n",
      "number of views                          0\n",
      "condition of the house                   0\n",
      "grade of the house                       0\n",
      "Area of the house(excluding basement)    0\n",
      "Area of the basement                     0\n",
      "Built Year                               0\n",
      "Renovation Year                          0\n",
      "Postal Code                              0\n",
      "Lattitude                                0\n",
      "Longitude                                0\n",
      "living_area_renov                        0\n",
      "lot_area_renov                           0\n",
      "Number of schools nearby                 0\n",
      "Distance from the airport                0\n",
      "Price                                    0\n",
      "dtype: int64\n"
     ]
    }
   ],
   "source": [
    "print(data_set.isnull().sum())"
   ]
  },
  {
   "cell_type": "code",
   "execution_count": 78,
   "id": "679945de-02ac-4936-b659-c26ed34713f9",
   "metadata": {},
   "outputs": [
    {
     "data": {
      "text/html": [
       "<div>\n",
       "<style scoped>\n",
       "    .dataframe tbody tr th:only-of-type {\n",
       "        vertical-align: middle;\n",
       "    }\n",
       "\n",
       "    .dataframe tbody tr th {\n",
       "        vertical-align: top;\n",
       "    }\n",
       "\n",
       "    .dataframe thead th {\n",
       "        text-align: right;\n",
       "    }\n",
       "</style>\n",
       "<table border=\"1\" class=\"dataframe\">\n",
       "  <thead>\n",
       "    <tr style=\"text-align: right;\">\n",
       "      <th></th>\n",
       "      <th>id</th>\n",
       "      <th>Date</th>\n",
       "      <th>number of bedrooms</th>\n",
       "      <th>number of bathrooms</th>\n",
       "      <th>living area</th>\n",
       "      <th>lot area</th>\n",
       "      <th>number of floors</th>\n",
       "      <th>waterfront present</th>\n",
       "      <th>number of views</th>\n",
       "      <th>condition of the house</th>\n",
       "      <th>...</th>\n",
       "      <th>Built Year</th>\n",
       "      <th>Renovation Year</th>\n",
       "      <th>Postal Code</th>\n",
       "      <th>Lattitude</th>\n",
       "      <th>Longitude</th>\n",
       "      <th>living_area_renov</th>\n",
       "      <th>lot_area_renov</th>\n",
       "      <th>Number of schools nearby</th>\n",
       "      <th>Distance from the airport</th>\n",
       "      <th>Price</th>\n",
       "    </tr>\n",
       "  </thead>\n",
       "  <tbody>\n",
       "    <tr>\n",
       "      <th>0</th>\n",
       "      <td>6762810145</td>\n",
       "      <td>42491</td>\n",
       "      <td>5</td>\n",
       "      <td>2.50</td>\n",
       "      <td>3650</td>\n",
       "      <td>9050</td>\n",
       "      <td>2.0</td>\n",
       "      <td>0</td>\n",
       "      <td>4</td>\n",
       "      <td>5</td>\n",
       "      <td>...</td>\n",
       "      <td>1921</td>\n",
       "      <td>0</td>\n",
       "      <td>122003</td>\n",
       "      <td>52.8645</td>\n",
       "      <td>-114.557</td>\n",
       "      <td>2880</td>\n",
       "      <td>5400</td>\n",
       "      <td>2</td>\n",
       "      <td>58</td>\n",
       "      <td>2380000</td>\n",
       "    </tr>\n",
       "    <tr>\n",
       "      <th>1</th>\n",
       "      <td>6762810635</td>\n",
       "      <td>42491</td>\n",
       "      <td>4</td>\n",
       "      <td>2.50</td>\n",
       "      <td>2920</td>\n",
       "      <td>4000</td>\n",
       "      <td>1.5</td>\n",
       "      <td>0</td>\n",
       "      <td>0</td>\n",
       "      <td>5</td>\n",
       "      <td>...</td>\n",
       "      <td>1909</td>\n",
       "      <td>0</td>\n",
       "      <td>122004</td>\n",
       "      <td>52.8878</td>\n",
       "      <td>-114.470</td>\n",
       "      <td>2470</td>\n",
       "      <td>4000</td>\n",
       "      <td>2</td>\n",
       "      <td>51</td>\n",
       "      <td>1400000</td>\n",
       "    </tr>\n",
       "    <tr>\n",
       "      <th>2</th>\n",
       "      <td>6762810998</td>\n",
       "      <td>42491</td>\n",
       "      <td>5</td>\n",
       "      <td>2.75</td>\n",
       "      <td>2910</td>\n",
       "      <td>9480</td>\n",
       "      <td>1.5</td>\n",
       "      <td>0</td>\n",
       "      <td>0</td>\n",
       "      <td>3</td>\n",
       "      <td>...</td>\n",
       "      <td>1939</td>\n",
       "      <td>0</td>\n",
       "      <td>122004</td>\n",
       "      <td>52.8852</td>\n",
       "      <td>-114.468</td>\n",
       "      <td>2940</td>\n",
       "      <td>6600</td>\n",
       "      <td>1</td>\n",
       "      <td>53</td>\n",
       "      <td>1200000</td>\n",
       "    </tr>\n",
       "    <tr>\n",
       "      <th>3</th>\n",
       "      <td>6762812605</td>\n",
       "      <td>42491</td>\n",
       "      <td>4</td>\n",
       "      <td>2.50</td>\n",
       "      <td>3310</td>\n",
       "      <td>42998</td>\n",
       "      <td>2.0</td>\n",
       "      <td>0</td>\n",
       "      <td>0</td>\n",
       "      <td>3</td>\n",
       "      <td>...</td>\n",
       "      <td>2001</td>\n",
       "      <td>0</td>\n",
       "      <td>122005</td>\n",
       "      <td>52.9532</td>\n",
       "      <td>-114.321</td>\n",
       "      <td>3350</td>\n",
       "      <td>42847</td>\n",
       "      <td>3</td>\n",
       "      <td>76</td>\n",
       "      <td>838000</td>\n",
       "    </tr>\n",
       "    <tr>\n",
       "      <th>4</th>\n",
       "      <td>6762812919</td>\n",
       "      <td>42491</td>\n",
       "      <td>3</td>\n",
       "      <td>2.00</td>\n",
       "      <td>2710</td>\n",
       "      <td>4500</td>\n",
       "      <td>1.5</td>\n",
       "      <td>0</td>\n",
       "      <td>0</td>\n",
       "      <td>4</td>\n",
       "      <td>...</td>\n",
       "      <td>1929</td>\n",
       "      <td>0</td>\n",
       "      <td>122006</td>\n",
       "      <td>52.9047</td>\n",
       "      <td>-114.485</td>\n",
       "      <td>2060</td>\n",
       "      <td>4500</td>\n",
       "      <td>1</td>\n",
       "      <td>51</td>\n",
       "      <td>805000</td>\n",
       "    </tr>\n",
       "    <tr>\n",
       "      <th>...</th>\n",
       "      <td>...</td>\n",
       "      <td>...</td>\n",
       "      <td>...</td>\n",
       "      <td>...</td>\n",
       "      <td>...</td>\n",
       "      <td>...</td>\n",
       "      <td>...</td>\n",
       "      <td>...</td>\n",
       "      <td>...</td>\n",
       "      <td>...</td>\n",
       "      <td>...</td>\n",
       "      <td>...</td>\n",
       "      <td>...</td>\n",
       "      <td>...</td>\n",
       "      <td>...</td>\n",
       "      <td>...</td>\n",
       "      <td>...</td>\n",
       "      <td>...</td>\n",
       "      <td>...</td>\n",
       "      <td>...</td>\n",
       "      <td>...</td>\n",
       "    </tr>\n",
       "    <tr>\n",
       "      <th>14615</th>\n",
       "      <td>6762830250</td>\n",
       "      <td>42734</td>\n",
       "      <td>2</td>\n",
       "      <td>1.50</td>\n",
       "      <td>1556</td>\n",
       "      <td>20000</td>\n",
       "      <td>1.0</td>\n",
       "      <td>0</td>\n",
       "      <td>0</td>\n",
       "      <td>4</td>\n",
       "      <td>...</td>\n",
       "      <td>1957</td>\n",
       "      <td>0</td>\n",
       "      <td>122066</td>\n",
       "      <td>52.6191</td>\n",
       "      <td>-114.472</td>\n",
       "      <td>2250</td>\n",
       "      <td>17286</td>\n",
       "      <td>3</td>\n",
       "      <td>76</td>\n",
       "      <td>221700</td>\n",
       "    </tr>\n",
       "    <tr>\n",
       "      <th>14616</th>\n",
       "      <td>6762830339</td>\n",
       "      <td>42734</td>\n",
       "      <td>3</td>\n",
       "      <td>2.00</td>\n",
       "      <td>1680</td>\n",
       "      <td>7000</td>\n",
       "      <td>1.5</td>\n",
       "      <td>0</td>\n",
       "      <td>0</td>\n",
       "      <td>4</td>\n",
       "      <td>...</td>\n",
       "      <td>1968</td>\n",
       "      <td>0</td>\n",
       "      <td>122072</td>\n",
       "      <td>52.5075</td>\n",
       "      <td>-114.393</td>\n",
       "      <td>1540</td>\n",
       "      <td>7480</td>\n",
       "      <td>3</td>\n",
       "      <td>59</td>\n",
       "      <td>219200</td>\n",
       "    </tr>\n",
       "    <tr>\n",
       "      <th>14617</th>\n",
       "      <td>6762830618</td>\n",
       "      <td>42734</td>\n",
       "      <td>2</td>\n",
       "      <td>1.00</td>\n",
       "      <td>1070</td>\n",
       "      <td>6120</td>\n",
       "      <td>1.0</td>\n",
       "      <td>0</td>\n",
       "      <td>0</td>\n",
       "      <td>3</td>\n",
       "      <td>...</td>\n",
       "      <td>1962</td>\n",
       "      <td>0</td>\n",
       "      <td>122056</td>\n",
       "      <td>52.7289</td>\n",
       "      <td>-114.507</td>\n",
       "      <td>1130</td>\n",
       "      <td>6120</td>\n",
       "      <td>2</td>\n",
       "      <td>64</td>\n",
       "      <td>209000</td>\n",
       "    </tr>\n",
       "    <tr>\n",
       "      <th>14618</th>\n",
       "      <td>6762830709</td>\n",
       "      <td>42734</td>\n",
       "      <td>4</td>\n",
       "      <td>1.00</td>\n",
       "      <td>1030</td>\n",
       "      <td>6621</td>\n",
       "      <td>1.0</td>\n",
       "      <td>0</td>\n",
       "      <td>0</td>\n",
       "      <td>4</td>\n",
       "      <td>...</td>\n",
       "      <td>1955</td>\n",
       "      <td>0</td>\n",
       "      <td>122042</td>\n",
       "      <td>52.7157</td>\n",
       "      <td>-114.411</td>\n",
       "      <td>1420</td>\n",
       "      <td>6631</td>\n",
       "      <td>3</td>\n",
       "      <td>54</td>\n",
       "      <td>205000</td>\n",
       "    </tr>\n",
       "    <tr>\n",
       "      <th>14619</th>\n",
       "      <td>6762831463</td>\n",
       "      <td>42734</td>\n",
       "      <td>3</td>\n",
       "      <td>1.00</td>\n",
       "      <td>900</td>\n",
       "      <td>4770</td>\n",
       "      <td>1.0</td>\n",
       "      <td>0</td>\n",
       "      <td>0</td>\n",
       "      <td>3</td>\n",
       "      <td>...</td>\n",
       "      <td>1969</td>\n",
       "      <td>2009</td>\n",
       "      <td>122018</td>\n",
       "      <td>52.5338</td>\n",
       "      <td>-114.552</td>\n",
       "      <td>900</td>\n",
       "      <td>3480</td>\n",
       "      <td>2</td>\n",
       "      <td>55</td>\n",
       "      <td>146000</td>\n",
       "    </tr>\n",
       "  </tbody>\n",
       "</table>\n",
       "<p>14620 rows × 23 columns</p>\n",
       "</div>"
      ],
      "text/plain": [
       "               id   Date  number of bedrooms  number of bathrooms  \\\n",
       "0      6762810145  42491                   5                 2.50   \n",
       "1      6762810635  42491                   4                 2.50   \n",
       "2      6762810998  42491                   5                 2.75   \n",
       "3      6762812605  42491                   4                 2.50   \n",
       "4      6762812919  42491                   3                 2.00   \n",
       "...           ...    ...                 ...                  ...   \n",
       "14615  6762830250  42734                   2                 1.50   \n",
       "14616  6762830339  42734                   3                 2.00   \n",
       "14617  6762830618  42734                   2                 1.00   \n",
       "14618  6762830709  42734                   4                 1.00   \n",
       "14619  6762831463  42734                   3                 1.00   \n",
       "\n",
       "       living area  lot area  number of floors  waterfront present  \\\n",
       "0             3650      9050               2.0                   0   \n",
       "1             2920      4000               1.5                   0   \n",
       "2             2910      9480               1.5                   0   \n",
       "3             3310     42998               2.0                   0   \n",
       "4             2710      4500               1.5                   0   \n",
       "...            ...       ...               ...                 ...   \n",
       "14615         1556     20000               1.0                   0   \n",
       "14616         1680      7000               1.5                   0   \n",
       "14617         1070      6120               1.0                   0   \n",
       "14618         1030      6621               1.0                   0   \n",
       "14619          900      4770               1.0                   0   \n",
       "\n",
       "       number of views  condition of the house  ...  Built Year  \\\n",
       "0                    4                       5  ...        1921   \n",
       "1                    0                       5  ...        1909   \n",
       "2                    0                       3  ...        1939   \n",
       "3                    0                       3  ...        2001   \n",
       "4                    0                       4  ...        1929   \n",
       "...                ...                     ...  ...         ...   \n",
       "14615                0                       4  ...        1957   \n",
       "14616                0                       4  ...        1968   \n",
       "14617                0                       3  ...        1962   \n",
       "14618                0                       4  ...        1955   \n",
       "14619                0                       3  ...        1969   \n",
       "\n",
       "       Renovation Year  Postal Code  Lattitude  Longitude  living_area_renov  \\\n",
       "0                    0       122003    52.8645   -114.557               2880   \n",
       "1                    0       122004    52.8878   -114.470               2470   \n",
       "2                    0       122004    52.8852   -114.468               2940   \n",
       "3                    0       122005    52.9532   -114.321               3350   \n",
       "4                    0       122006    52.9047   -114.485               2060   \n",
       "...                ...          ...        ...        ...                ...   \n",
       "14615                0       122066    52.6191   -114.472               2250   \n",
       "14616                0       122072    52.5075   -114.393               1540   \n",
       "14617                0       122056    52.7289   -114.507               1130   \n",
       "14618                0       122042    52.7157   -114.411               1420   \n",
       "14619             2009       122018    52.5338   -114.552                900   \n",
       "\n",
       "       lot_area_renov  Number of schools nearby  Distance from the airport  \\\n",
       "0                5400                         2                         58   \n",
       "1                4000                         2                         51   \n",
       "2                6600                         1                         53   \n",
       "3               42847                         3                         76   \n",
       "4                4500                         1                         51   \n",
       "...               ...                       ...                        ...   \n",
       "14615           17286                         3                         76   \n",
       "14616            7480                         3                         59   \n",
       "14617            6120                         2                         64   \n",
       "14618            6631                         3                         54   \n",
       "14619            3480                         2                         55   \n",
       "\n",
       "         Price  \n",
       "0      2380000  \n",
       "1      1400000  \n",
       "2      1200000  \n",
       "3       838000  \n",
       "4       805000  \n",
       "...        ...  \n",
       "14615   221700  \n",
       "14616   219200  \n",
       "14617   209000  \n",
       "14618   205000  \n",
       "14619   146000  \n",
       "\n",
       "[14620 rows x 23 columns]"
      ]
     },
     "execution_count": 78,
     "metadata": {},
     "output_type": "execute_result"
    }
   ],
   "source": [
    "data_set.dropna()"
   ]
  },
  {
   "cell_type": "code",
   "execution_count": 79,
   "id": "8622fce5-b4f9-4c20-a08a-d78b5683f791",
   "metadata": {},
   "outputs": [
    {
     "data": {
      "text/plain": [
       "(14620, 23)"
      ]
     },
     "execution_count": 79,
     "metadata": {},
     "output_type": "execute_result"
    }
   ],
   "source": [
    "data_set.shape"
   ]
  },
  {
   "cell_type": "code",
   "execution_count": 81,
   "id": "39d7efc4-9325-43c8-b14d-c741e7725215",
   "metadata": {},
   "outputs": [
    {
     "data": {
      "image/png": "[encoded data removed]",
      "text/plain": [
       "<Figure size 640x480 with 1 Axes>"
      ]
     },
     "metadata": {},
     "output_type": "display_data"
    }
   ],
   "source": [
    "import seaborn as sns\n",
    "sns.boxplot(x = data_set['number of bedrooms'])\n",
    "plt.show()"
   ]
  },
  {
   "cell_type": "code",
   "execution_count": 82,
   "id": "9b1133c1-7e34-43f8-b158-017076354bed",
   "metadata": {},
   "outputs": [
    {
     "data": {
      "image/png": "[encoded data removed]",
      "text/plain": [
       "<Figure size 640x480 with 1 Axes>"
      ]
     },
     "metadata": {},
     "output_type": "display_data"
    }
   ],
   "source": [
    "sns.boxplot(x = data_set['number of bathrooms'])\n",
    "plt.show()"
   ]
  },
  {
   "cell_type": "code",
   "execution_count": 83,
   "id": "7a4ca126-a63e-46d5-8637-e0541f2b40d6",
   "metadata": {},
   "outputs": [
    {
     "data": {
      "image/png": "[encoded data removed]",
      "text/plain": [
       "<Figure size 640x480 with 1 Axes>"
      ]
     },
     "metadata": {},
     "output_type": "display_data"
    }
   ],
   "source": [
    "sns.boxplot(x = data_set['Distance from the airport'])\n",
    "plt.show()"
   ]
  },
  {
   "cell_type": "code",
   "execution_count": 84,
   "id": "6c778b79-f93d-48f3-8092-2e7019e93089",
   "metadata": {},
   "outputs": [
    {
     "name": "stdout",
     "output_type": "stream",
     "text": [
      "id                                        10846.5000\n",
      "Date                                        116.0000\n",
      "number of bedrooms                            1.0000\n",
      "number of bathrooms                           0.7500\n",
      "living area                                1130.0000\n",
      "lot area                                   5789.2500\n",
      "number of floors                              1.0000\n",
      "waterfront present                            0.0000\n",
      "number of views                               0.0000\n",
      "condition of the house                        1.0000\n",
      "grade of the house                            1.0000\n",
      "Area of the house(excluding basement)      1040.0000\n",
      "Area of the basement                        580.0000\n",
      "Built Year                                   46.0000\n",
      "Renovation Year                               0.0000\n",
      "Postal Code                                  31.0000\n",
      "Lattitude                                     0.2013\n",
      "Longitude                                     0.2040\n",
      "living_area_renov                           890.0000\n",
      "lot_area_renov                             5027.2500\n",
      "Number of schools nearby                      2.0000\n",
      "Distance from the airport                    16.0000\n",
      "Price                                    325000.0000\n",
      "dtype: float64\n"
     ]
    }
   ],
   "source": [
    "Q1 = data_set.quantile(0.25, numeric_only=True)\n",
    "Q3 = data_set.quantile(0.75, numeric_only=True)\n",
    "IQR = Q3 -Q1\n",
    "print(IQR)"
   ]
  },
  {
   "cell_type": "code",
   "execution_count": 85,
   "id": "344d45a5-8820-48da-95bd-4f12b1f5163c",
   "metadata": {},
   "outputs": [
    {
     "data": {
      "text/plain": [
       "(10067, 23)"
      ]
     },
     "execution_count": 85,
     "metadata": {},
     "output_type": "execute_result"
    }
   ],
   "source": [
    "data_set, Q1 = data_set.align(Q1, axis=1, copy=False)\n",
    "data_set, Q3 = data_set.align(Q3, axis=1, copy=False)\n",
    "\n",
    "data_set = data_set[~((data_set < (Q1 - 1.5 * IQR)) |(data_set > (Q3 + 1.5 * IQR))).any(axis=1)]\n",
    "data_set.shape"
   ]
  },
  {
   "cell_type": "code",
   "execution_count": 86,
   "id": "77a156d6-7019-4aeb-9e9e-41efcb49c551",
   "metadata": {},
   "outputs": [
    {
     "data": {
      "text/html": [
       "<div>\n",
       "<style scoped>\n",
       "    .dataframe tbody tr th:only-of-type {\n",
       "        vertical-align: middle;\n",
       "    }\n",
       "\n",
       "    .dataframe tbody tr th {\n",
       "        vertical-align: top;\n",
       "    }\n",
       "\n",
       "    .dataframe thead th {\n",
       "        text-align: right;\n",
       "    }\n",
       "</style>\n",
       "<table border=\"1\" class=\"dataframe\">\n",
       "  <thead>\n",
       "    <tr style=\"text-align: right;\">\n",
       "      <th></th>\n",
       "      <th>id</th>\n",
       "      <th>Date</th>\n",
       "      <th>number of bedrooms</th>\n",
       "      <th>number of bathrooms</th>\n",
       "      <th>living area</th>\n",
       "      <th>lot area</th>\n",
       "      <th>number of floors</th>\n",
       "      <th>waterfront present</th>\n",
       "      <th>number of views</th>\n",
       "      <th>condition of the house</th>\n",
       "      <th>...</th>\n",
       "      <th>Built Year</th>\n",
       "      <th>Renovation Year</th>\n",
       "      <th>Postal Code</th>\n",
       "      <th>Lattitude</th>\n",
       "      <th>Longitude</th>\n",
       "      <th>living_area_renov</th>\n",
       "      <th>lot_area_renov</th>\n",
       "      <th>Number of schools nearby</th>\n",
       "      <th>Distance from the airport</th>\n",
       "      <th>Price</th>\n",
       "    </tr>\n",
       "  </thead>\n",
       "  <tbody>\n",
       "    <tr>\n",
       "      <th>4</th>\n",
       "      <td>6762812919</td>\n",
       "      <td>42491</td>\n",
       "      <td>3</td>\n",
       "      <td>2.00</td>\n",
       "      <td>2710</td>\n",
       "      <td>4500</td>\n",
       "      <td>1.5</td>\n",
       "      <td>0</td>\n",
       "      <td>0</td>\n",
       "      <td>4</td>\n",
       "      <td>...</td>\n",
       "      <td>1929</td>\n",
       "      <td>0</td>\n",
       "      <td>122006</td>\n",
       "      <td>52.9047</td>\n",
       "      <td>-114.485</td>\n",
       "      <td>2060</td>\n",
       "      <td>4500</td>\n",
       "      <td>1</td>\n",
       "      <td>51</td>\n",
       "      <td>805000</td>\n",
       "    </tr>\n",
       "    <tr>\n",
       "      <th>5</th>\n",
       "      <td>6762813105</td>\n",
       "      <td>42491</td>\n",
       "      <td>3</td>\n",
       "      <td>2.50</td>\n",
       "      <td>2600</td>\n",
       "      <td>4750</td>\n",
       "      <td>1.0</td>\n",
       "      <td>0</td>\n",
       "      <td>0</td>\n",
       "      <td>4</td>\n",
       "      <td>...</td>\n",
       "      <td>1951</td>\n",
       "      <td>0</td>\n",
       "      <td>122007</td>\n",
       "      <td>52.9133</td>\n",
       "      <td>-114.590</td>\n",
       "      <td>2380</td>\n",
       "      <td>4750</td>\n",
       "      <td>1</td>\n",
       "      <td>67</td>\n",
       "      <td>790000</td>\n",
       "    </tr>\n",
       "    <tr>\n",
       "      <th>7</th>\n",
       "      <td>6762813599</td>\n",
       "      <td>42491</td>\n",
       "      <td>3</td>\n",
       "      <td>1.75</td>\n",
       "      <td>2240</td>\n",
       "      <td>10578</td>\n",
       "      <td>2.0</td>\n",
       "      <td>0</td>\n",
       "      <td>0</td>\n",
       "      <td>5</td>\n",
       "      <td>...</td>\n",
       "      <td>1923</td>\n",
       "      <td>0</td>\n",
       "      <td>122006</td>\n",
       "      <td>52.9254</td>\n",
       "      <td>-114.482</td>\n",
       "      <td>1570</td>\n",
       "      <td>10578</td>\n",
       "      <td>3</td>\n",
       "      <td>71</td>\n",
       "      <td>750000</td>\n",
       "    </tr>\n",
       "    <tr>\n",
       "      <th>9</th>\n",
       "      <td>6762814461</td>\n",
       "      <td>42491</td>\n",
       "      <td>4</td>\n",
       "      <td>2.25</td>\n",
       "      <td>2200</td>\n",
       "      <td>11250</td>\n",
       "      <td>1.5</td>\n",
       "      <td>0</td>\n",
       "      <td>0</td>\n",
       "      <td>5</td>\n",
       "      <td>...</td>\n",
       "      <td>1920</td>\n",
       "      <td>0</td>\n",
       "      <td>122010</td>\n",
       "      <td>52.9145</td>\n",
       "      <td>-114.391</td>\n",
       "      <td>2320</td>\n",
       "      <td>10814</td>\n",
       "      <td>2</td>\n",
       "      <td>53</td>\n",
       "      <td>698000</td>\n",
       "    </tr>\n",
       "    <tr>\n",
       "      <th>12</th>\n",
       "      <td>6762815461</td>\n",
       "      <td>42491</td>\n",
       "      <td>4</td>\n",
       "      <td>2.00</td>\n",
       "      <td>1520</td>\n",
       "      <td>6200</td>\n",
       "      <td>1.5</td>\n",
       "      <td>0</td>\n",
       "      <td>0</td>\n",
       "      <td>3</td>\n",
       "      <td>...</td>\n",
       "      <td>1945</td>\n",
       "      <td>0</td>\n",
       "      <td>122006</td>\n",
       "      <td>52.9080</td>\n",
       "      <td>-114.459</td>\n",
       "      <td>1910</td>\n",
       "      <td>6200</td>\n",
       "      <td>3</td>\n",
       "      <td>80</td>\n",
       "      <td>640000</td>\n",
       "    </tr>\n",
       "    <tr>\n",
       "      <th>14</th>\n",
       "      <td>6762815737</td>\n",
       "      <td>42491</td>\n",
       "      <td>3</td>\n",
       "      <td>2.25</td>\n",
       "      <td>1750</td>\n",
       "      <td>1572</td>\n",
       "      <td>2.5</td>\n",
       "      <td>0</td>\n",
       "      <td>0</td>\n",
       "      <td>3</td>\n",
       "      <td>...</td>\n",
       "      <td>2005</td>\n",
       "      <td>0</td>\n",
       "      <td>122013</td>\n",
       "      <td>52.8798</td>\n",
       "      <td>-114.511</td>\n",
       "      <td>2410</td>\n",
       "      <td>3050</td>\n",
       "      <td>3</td>\n",
       "      <td>51</td>\n",
       "      <td>626000</td>\n",
       "    </tr>\n",
       "    <tr>\n",
       "      <th>15</th>\n",
       "      <td>6762815748</td>\n",
       "      <td>42491</td>\n",
       "      <td>4</td>\n",
       "      <td>2.50</td>\n",
       "      <td>2820</td>\n",
       "      <td>8408</td>\n",
       "      <td>2.0</td>\n",
       "      <td>0</td>\n",
       "      <td>0</td>\n",
       "      <td>3</td>\n",
       "      <td>...</td>\n",
       "      <td>2014</td>\n",
       "      <td>0</td>\n",
       "      <td>122014</td>\n",
       "      <td>52.9838</td>\n",
       "      <td>-114.515</td>\n",
       "      <td>1300</td>\n",
       "      <td>8408</td>\n",
       "      <td>3</td>\n",
       "      <td>55</td>\n",
       "      <td>625000</td>\n",
       "    </tr>\n",
       "    <tr>\n",
       "      <th>17</th>\n",
       "      <td>6762815986</td>\n",
       "      <td>42491</td>\n",
       "      <td>3</td>\n",
       "      <td>1.75</td>\n",
       "      <td>2360</td>\n",
       "      <td>7291</td>\n",
       "      <td>1.0</td>\n",
       "      <td>0</td>\n",
       "      <td>0</td>\n",
       "      <td>4</td>\n",
       "      <td>...</td>\n",
       "      <td>1948</td>\n",
       "      <td>0</td>\n",
       "      <td>122016</td>\n",
       "      <td>52.7574</td>\n",
       "      <td>-114.574</td>\n",
       "      <td>1860</td>\n",
       "      <td>5499</td>\n",
       "      <td>2</td>\n",
       "      <td>75</td>\n",
       "      <td>615000</td>\n",
       "    </tr>\n",
       "    <tr>\n",
       "      <th>18</th>\n",
       "      <td>6762816059</td>\n",
       "      <td>42491</td>\n",
       "      <td>4</td>\n",
       "      <td>2.50</td>\n",
       "      <td>2730</td>\n",
       "      <td>12261</td>\n",
       "      <td>2.0</td>\n",
       "      <td>0</td>\n",
       "      <td>0</td>\n",
       "      <td>3</td>\n",
       "      <td>...</td>\n",
       "      <td>1991</td>\n",
       "      <td>0</td>\n",
       "      <td>122017</td>\n",
       "      <td>52.9719</td>\n",
       "      <td>-114.395</td>\n",
       "      <td>2730</td>\n",
       "      <td>10872</td>\n",
       "      <td>2</td>\n",
       "      <td>70</td>\n",
       "      <td>612500</td>\n",
       "    </tr>\n",
       "    <tr>\n",
       "      <th>20</th>\n",
       "      <td>6762816633</td>\n",
       "      <td>42491</td>\n",
       "      <td>3</td>\n",
       "      <td>1.75</td>\n",
       "      <td>2330</td>\n",
       "      <td>14892</td>\n",
       "      <td>1.0</td>\n",
       "      <td>0</td>\n",
       "      <td>0</td>\n",
       "      <td>3</td>\n",
       "      <td>...</td>\n",
       "      <td>1980</td>\n",
       "      <td>0</td>\n",
       "      <td>122019</td>\n",
       "      <td>52.8567</td>\n",
       "      <td>-114.236</td>\n",
       "      <td>2570</td>\n",
       "      <td>14217</td>\n",
       "      <td>1</td>\n",
       "      <td>60</td>\n",
       "      <td>588500</td>\n",
       "    </tr>\n",
       "    <tr>\n",
       "      <th>21</th>\n",
       "      <td>6762817449</td>\n",
       "      <td>42491</td>\n",
       "      <td>4</td>\n",
       "      <td>2.50</td>\n",
       "      <td>3310</td>\n",
       "      <td>6500</td>\n",
       "      <td>2.0</td>\n",
       "      <td>0</td>\n",
       "      <td>0</td>\n",
       "      <td>3</td>\n",
       "      <td>...</td>\n",
       "      <td>2012</td>\n",
       "      <td>0</td>\n",
       "      <td>122008</td>\n",
       "      <td>52.7450</td>\n",
       "      <td>-114.060</td>\n",
       "      <td>2380</td>\n",
       "      <td>5000</td>\n",
       "      <td>2</td>\n",
       "      <td>80</td>\n",
       "      <td>555000</td>\n",
       "    </tr>\n",
       "    <tr>\n",
       "      <th>22</th>\n",
       "      <td>6762817570</td>\n",
       "      <td>42491</td>\n",
       "      <td>4</td>\n",
       "      <td>2.50</td>\n",
       "      <td>1940</td>\n",
       "      <td>10500</td>\n",
       "      <td>1.0</td>\n",
       "      <td>0</td>\n",
       "      <td>0</td>\n",
       "      <td>4</td>\n",
       "      <td>...</td>\n",
       "      <td>1976</td>\n",
       "      <td>0</td>\n",
       "      <td>122005</td>\n",
       "      <td>52.9130</td>\n",
       "      <td>-114.304</td>\n",
       "      <td>2200</td>\n",
       "      <td>10500</td>\n",
       "      <td>1</td>\n",
       "      <td>58</td>\n",
       "      <td>550000</td>\n",
       "    </tr>\n",
       "    <tr>\n",
       "      <th>24</th>\n",
       "      <td>6762819227</td>\n",
       "      <td>42491</td>\n",
       "      <td>4</td>\n",
       "      <td>2.50</td>\n",
       "      <td>2860</td>\n",
       "      <td>3345</td>\n",
       "      <td>2.0</td>\n",
       "      <td>0</td>\n",
       "      <td>0</td>\n",
       "      <td>3</td>\n",
       "      <td>...</td>\n",
       "      <td>2004</td>\n",
       "      <td>0</td>\n",
       "      <td>122021</td>\n",
       "      <td>53.0035</td>\n",
       "      <td>-114.348</td>\n",
       "      <td>2860</td>\n",
       "      <td>3596</td>\n",
       "      <td>3</td>\n",
       "      <td>73</td>\n",
       "      <td>499950</td>\n",
       "    </tr>\n",
       "    <tr>\n",
       "      <th>25</th>\n",
       "      <td>6762819342</td>\n",
       "      <td>42491</td>\n",
       "      <td>4</td>\n",
       "      <td>1.75</td>\n",
       "      <td>1600</td>\n",
       "      <td>6380</td>\n",
       "      <td>1.0</td>\n",
       "      <td>0</td>\n",
       "      <td>0</td>\n",
       "      <td>3</td>\n",
       "      <td>...</td>\n",
       "      <td>1959</td>\n",
       "      <td>0</td>\n",
       "      <td>122022</td>\n",
       "      <td>52.9310</td>\n",
       "      <td>-114.496</td>\n",
       "      <td>1090</td>\n",
       "      <td>6380</td>\n",
       "      <td>3</td>\n",
       "      <td>50</td>\n",
       "      <td>495000</td>\n",
       "    </tr>\n",
       "    <tr>\n",
       "      <th>29</th>\n",
       "      <td>6762820114</td>\n",
       "      <td>42491</td>\n",
       "      <td>5</td>\n",
       "      <td>2.50</td>\n",
       "      <td>2210</td>\n",
       "      <td>9655</td>\n",
       "      <td>1.0</td>\n",
       "      <td>0</td>\n",
       "      <td>0</td>\n",
       "      <td>3</td>\n",
       "      <td>...</td>\n",
       "      <td>1976</td>\n",
       "      <td>0</td>\n",
       "      <td>122017</td>\n",
       "      <td>52.9998</td>\n",
       "      <td>-114.412</td>\n",
       "      <td>2080</td>\n",
       "      <td>8633</td>\n",
       "      <td>3</td>\n",
       "      <td>79</td>\n",
       "      <td>470000</td>\n",
       "    </tr>\n",
       "    <tr>\n",
       "      <th>30</th>\n",
       "      <td>6762820382</td>\n",
       "      <td>42491</td>\n",
       "      <td>3</td>\n",
       "      <td>1.75</td>\n",
       "      <td>1710</td>\n",
       "      <td>7320</td>\n",
       "      <td>1.0</td>\n",
       "      <td>0</td>\n",
       "      <td>0</td>\n",
       "      <td>3</td>\n",
       "      <td>...</td>\n",
       "      <td>1948</td>\n",
       "      <td>0</td>\n",
       "      <td>122014</td>\n",
       "      <td>52.9812</td>\n",
       "      <td>-114.471</td>\n",
       "      <td>2260</td>\n",
       "      <td>8839</td>\n",
       "      <td>1</td>\n",
       "      <td>72</td>\n",
       "      <td>463000</td>\n",
       "    </tr>\n",
       "    <tr>\n",
       "      <th>33</th>\n",
       "      <td>6762821047</td>\n",
       "      <td>42491</td>\n",
       "      <td>3</td>\n",
       "      <td>2.50</td>\n",
       "      <td>1270</td>\n",
       "      <td>1180</td>\n",
       "      <td>3.0</td>\n",
       "      <td>0</td>\n",
       "      <td>0</td>\n",
       "      <td>3</td>\n",
       "      <td>...</td>\n",
       "      <td>2001</td>\n",
       "      <td>0</td>\n",
       "      <td>122026</td>\n",
       "      <td>52.8997</td>\n",
       "      <td>-114.582</td>\n",
       "      <td>1320</td>\n",
       "      <td>1180</td>\n",
       "      <td>3</td>\n",
       "      <td>61</td>\n",
       "      <td>445700</td>\n",
       "    </tr>\n",
       "    <tr>\n",
       "      <th>34</th>\n",
       "      <td>6762821205</td>\n",
       "      <td>42491</td>\n",
       "      <td>4</td>\n",
       "      <td>2.25</td>\n",
       "      <td>2160</td>\n",
       "      <td>8119</td>\n",
       "      <td>1.0</td>\n",
       "      <td>0</td>\n",
       "      <td>0</td>\n",
       "      <td>3</td>\n",
       "      <td>...</td>\n",
       "      <td>1966</td>\n",
       "      <td>0</td>\n",
       "      <td>122027</td>\n",
       "      <td>52.7743</td>\n",
       "      <td>-114.367</td>\n",
       "      <td>1850</td>\n",
       "      <td>9000</td>\n",
       "      <td>2</td>\n",
       "      <td>52</td>\n",
       "      <td>440000</td>\n",
       "    </tr>\n",
       "    <tr>\n",
       "      <th>35</th>\n",
       "      <td>6762821206</td>\n",
       "      <td>42491</td>\n",
       "      <td>2</td>\n",
       "      <td>1.00</td>\n",
       "      <td>800</td>\n",
       "      <td>4850</td>\n",
       "      <td>1.0</td>\n",
       "      <td>0</td>\n",
       "      <td>0</td>\n",
       "      <td>4</td>\n",
       "      <td>...</td>\n",
       "      <td>1944</td>\n",
       "      <td>0</td>\n",
       "      <td>122026</td>\n",
       "      <td>52.8939</td>\n",
       "      <td>-114.554</td>\n",
       "      <td>1150</td>\n",
       "      <td>4365</td>\n",
       "      <td>2</td>\n",
       "      <td>60</td>\n",
       "      <td>440000</td>\n",
       "    </tr>\n",
       "    <tr>\n",
       "      <th>36</th>\n",
       "      <td>6762821318</td>\n",
       "      <td>42491</td>\n",
       "      <td>3</td>\n",
       "      <td>2.50</td>\n",
       "      <td>1770</td>\n",
       "      <td>2875</td>\n",
       "      <td>2.0</td>\n",
       "      <td>0</td>\n",
       "      <td>0</td>\n",
       "      <td>3</td>\n",
       "      <td>...</td>\n",
       "      <td>1990</td>\n",
       "      <td>0</td>\n",
       "      <td>122009</td>\n",
       "      <td>52.7931</td>\n",
       "      <td>-114.587</td>\n",
       "      <td>1770</td>\n",
       "      <td>3833</td>\n",
       "      <td>3</td>\n",
       "      <td>68</td>\n",
       "      <td>439950</td>\n",
       "    </tr>\n",
       "  </tbody>\n",
       "</table>\n",
       "<p>20 rows × 23 columns</p>\n",
       "</div>"
      ],
      "text/plain": [
       "            id   Date  number of bedrooms  number of bathrooms  living area  \\\n",
       "4   6762812919  42491                   3                 2.00         2710   \n",
       "5   6762813105  42491                   3                 2.50         2600   \n",
       "7   6762813599  42491                   3                 1.75         2240   \n",
       "9   6762814461  42491                   4                 2.25         2200   \n",
       "12  6762815461  42491                   4                 2.00         1520   \n",
       "14  6762815737  42491                   3                 2.25         1750   \n",
       "15  6762815748  42491                   4                 2.50         2820   \n",
       "17  6762815986  42491                   3                 1.75         2360   \n",
       "18  6762816059  42491                   4                 2.50         2730   \n",
       "20  6762816633  42491                   3                 1.75         2330   \n",
       "21  6762817449  42491                   4                 2.50         3310   \n",
       "22  6762817570  42491                   4                 2.50         1940   \n",
       "24  6762819227  42491                   4                 2.50         2860   \n",
       "25  6762819342  42491                   4                 1.75         1600   \n",
       "29  6762820114  42491                   5                 2.50         2210   \n",
       "30  6762820382  42491                   3                 1.75         1710   \n",
       "33  6762821047  42491                   3                 2.50         1270   \n",
       "34  6762821205  42491                   4                 2.25         2160   \n",
       "35  6762821206  42491                   2                 1.00          800   \n",
       "36  6762821318  42491                   3                 2.50         1770   \n",
       "\n",
       "    lot area  number of floors  waterfront present  number of views  \\\n",
       "4       4500               1.5                   0                0   \n",
       "5       4750               1.0                   0                0   \n",
       "7      10578               2.0                   0                0   \n",
       "9      11250               1.5                   0                0   \n",
       "12      6200               1.5                   0                0   \n",
       "14      1572               2.5                   0                0   \n",
       "15      8408               2.0                   0                0   \n",
       "17      7291               1.0                   0                0   \n",
       "18     12261               2.0                   0                0   \n",
       "20     14892               1.0                   0                0   \n",
       "21      6500               2.0                   0                0   \n",
       "22     10500               1.0                   0                0   \n",
       "24      3345               2.0                   0                0   \n",
       "25      6380               1.0                   0                0   \n",
       "29      9655               1.0                   0                0   \n",
       "30      7320               1.0                   0                0   \n",
       "33      1180               3.0                   0                0   \n",
       "34      8119               1.0                   0                0   \n",
       "35      4850               1.0                   0                0   \n",
       "36      2875               2.0                   0                0   \n",
       "\n",
       "    condition of the house  ...  Built Year  Renovation Year  Postal Code  \\\n",
       "4                        4  ...        1929                0       122006   \n",
       "5                        4  ...        1951                0       122007   \n",
       "7                        5  ...        1923                0       122006   \n",
       "9                        5  ...        1920                0       122010   \n",
       "12                       3  ...        1945                0       122006   \n",
       "14                       3  ...        2005                0       122013   \n",
       "15                       3  ...        2014                0       122014   \n",
       "17                       4  ...        1948                0       122016   \n",
       "18                       3  ...        1991                0       122017   \n",
       "20                       3  ...        1980                0       122019   \n",
       "21                       3  ...        2012                0       122008   \n",
       "22                       4  ...        1976                0       122005   \n",
       "24                       3  ...        2004                0       122021   \n",
       "25                       3  ...        1959                0       122022   \n",
       "29                       3  ...        1976                0       122017   \n",
       "30                       3  ...        1948                0       122014   \n",
       "33                       3  ...        2001                0       122026   \n",
       "34                       3  ...        1966                0       122027   \n",
       "35                       4  ...        1944                0       122026   \n",
       "36                       3  ...        1990                0       122009   \n",
       "\n",
       "    Lattitude  Longitude  living_area_renov  lot_area_renov  \\\n",
       "4     52.9047   -114.485               2060            4500   \n",
       "5     52.9133   -114.590               2380            4750   \n",
       "7     52.9254   -114.482               1570           10578   \n",
       "9     52.9145   -114.391               2320           10814   \n",
       "12    52.9080   -114.459               1910            6200   \n",
       "14    52.8798   -114.511               2410            3050   \n",
       "15    52.9838   -114.515               1300            8408   \n",
       "17    52.7574   -114.574               1860            5499   \n",
       "18    52.9719   -114.395               2730           10872   \n",
       "20    52.8567   -114.236               2570           14217   \n",
       "21    52.7450   -114.060               2380            5000   \n",
       "22    52.9130   -114.304               2200           10500   \n",
       "24    53.0035   -114.348               2860            3596   \n",
       "25    52.9310   -114.496               1090            6380   \n",
       "29    52.9998   -114.412               2080            8633   \n",
       "30    52.9812   -114.471               2260            8839   \n",
       "33    52.8997   -114.582               1320            1180   \n",
       "34    52.7743   -114.367               1850            9000   \n",
       "35    52.8939   -114.554               1150            4365   \n",
       "36    52.7931   -114.587               1770            3833   \n",
       "\n",
       "    Number of schools nearby  Distance from the airport   Price  \n",
       "4                          1                         51  805000  \n",
       "5                          1                         67  790000  \n",
       "7                          3                         71  750000  \n",
       "9                          2                         53  698000  \n",
       "12                         3                         80  640000  \n",
       "14                         3                         51  626000  \n",
       "15                         3                         55  625000  \n",
       "17                         2                         75  615000  \n",
       "18                         2                         70  612500  \n",
       "20                         1                         60  588500  \n",
       "21                         2                         80  555000  \n",
       "22                         1                         58  550000  \n",
       "24                         3                         73  499950  \n",
       "25                         3                         50  495000  \n",
       "29                         3                         79  470000  \n",
       "30                         1                         72  463000  \n",
       "33                         3                         61  445700  \n",
       "34                         2                         52  440000  \n",
       "35                         2                         60  440000  \n",
       "36                         3                         68  439950  \n",
       "\n",
       "[20 rows x 23 columns]"
      ]
     },
     "execution_count": 86,
     "metadata": {},
     "output_type": "execute_result"
    }
   ],
   "source": [
    "data_set.head(20)"
   ]
  },
  {
   "cell_type": "code",
   "execution_count": 87,
   "id": "f3508e98-29f8-47df-a0d8-97243bc086f1",
   "metadata": {},
   "outputs": [],
   "source": [
    "x = data_set.iloc[:,:-1].values\n",
    "y = data_set.iloc[:,22].values"
   ]
  },
  {
   "cell_type": "code",
   "execution_count": 88,
   "id": "fedd4c36-e678-4111-a002-4b474068223c",
   "metadata": {},
   "outputs": [
    {
     "name": "stdout",
     "output_type": "stream",
     "text": [
      "[[6.76281292e+09 4.24910000e+04 3.00000000e+00 ... 4.50000000e+03\n",
      "  1.00000000e+00 5.10000000e+01]\n",
      " [6.76281310e+09 4.24910000e+04 3.00000000e+00 ... 4.75000000e+03\n",
      "  1.00000000e+00 6.70000000e+01]\n",
      " [6.76281360e+09 4.24910000e+04 3.00000000e+00 ... 1.05780000e+04\n",
      "  3.00000000e+00 7.10000000e+01]\n",
      " ...\n",
      " [6.76283034e+09 4.27340000e+04 3.00000000e+00 ... 7.48000000e+03\n",
      "  3.00000000e+00 5.90000000e+01]\n",
      " [6.76283062e+09 4.27340000e+04 2.00000000e+00 ... 6.12000000e+03\n",
      "  2.00000000e+00 6.40000000e+01]\n",
      " [6.76283071e+09 4.27340000e+04 4.00000000e+00 ... 6.63100000e+03\n",
      "  3.00000000e+00 5.40000000e+01]]\n"
     ]
    }
   ],
   "source": [
    "print(x)"
   ]
  },
  {
   "cell_type": "code",
   "execution_count": 89,
   "id": "f8ab58be-0f2d-4dc8-a10c-1ccf156196f1",
   "metadata": {},
   "outputs": [
    {
     "name": "stdout",
     "output_type": "stream",
     "text": [
      "(10067, 22)\n"
     ]
    }
   ],
   "source": [
    "print(x.shape)"
   ]
  },
  {
   "cell_type": "code",
   "execution_count": 90,
   "id": "801be0e5-5803-4f83-b7df-b03a62151f66",
   "metadata": {},
   "outputs": [
    {
     "name": "stdout",
     "output_type": "stream",
     "text": [
      "[805000 790000 750000 ... 219200 209000 205000]\n"
     ]
    }
   ],
   "source": [
    "print(y)"
   ]
  },
  {
   "cell_type": "code",
   "execution_count": 92,
   "id": "f66e9daf-5a37-4298-b265-ff40d2042589",
   "metadata": {},
   "outputs": [],
   "source": [
    "from sklearn.model_selection import train_test_split\n",
    "x_train,x_test,y_train,y_test = train_test_split(x,y, test_size = 0.3, random_state = 0)"
   ]
  },
  {
   "cell_type": "code",
   "execution_count": 94,
   "id": "080ffdba-5478-48fc-b4b4-8c2c9df3235e",
   "metadata": {},
   "outputs": [
    {
     "data": {
      "text/html": [
       "<style>#sk-container-id-8 {color: black;background-color: white;}#sk-container-id-8 pre{padding: 0;}#sk-container-id-8 div.sk-toggleable {background-color: white;}#sk-container-id-8 label.sk-toggleable__label {cursor: pointer;display: block;width: 100%;margin-bottom: 0;padding: 0.3em;box-sizing: border-box;text-align: center;}#sk-container-id-8 label.sk-toggleable__label-arrow:before {content: \"▸\";float: left;margin-right: 0.25em;color: #696969;}#sk-container-id-8 label.sk-toggleable__label-arrow:hover:before {color: black;}#sk-container-id-8 div.sk-estimator:hover label.sk-toggleable__label-arrow:before {color: black;}#sk-container-id-8 div.sk-toggleable__content {max-height: 0;max-width: 0;overflow: hidden;text-align: left;background-color: #f0f8ff;}#sk-container-id-8 div.sk-toggleable__content pre {margin: 0.2em;color: black;border-radius: 0.25em;background-color: #f0f8ff;}#sk-container-id-8 input.sk-toggleable__control:checked~div.sk-toggleable__content {max-height: 200px;max-width: 100%;overflow: auto;}#sk-container-id-8 input.sk-toggleable__control:checked~label.sk-toggleable__label-arrow:before {content: \"▾\";}#sk-container-id-8 div.sk-estimator input.sk-toggleable__control:checked~label.sk-toggleable__label {background-color: #d4ebff;}#sk-container-id-8 div.sk-label input.sk-toggleable__control:checked~label.sk-toggleable__label {background-color: #d4ebff;}#sk-container-id-8 input.sk-hidden--visually {border: 0;clip: rect(1px 1px 1px 1px);clip: rect(1px, 1px, 1px, 1px);height: 1px;margin: -1px;overflow: hidden;padding: 0;position: absolute;width: 1px;}#sk-container-id-8 div.sk-estimator {font-family: monospace;background-color: #f0f8ff;border: 1px dotted black;border-radius: 0.25em;box-sizing: border-box;margin-bottom: 0.5em;}#sk-container-id-8 div.sk-estimator:hover {background-color: #d4ebff;}#sk-container-id-8 div.sk-parallel-item::after {content: \"\";width: 100%;border-bottom: 1px solid gray;flex-grow: 1;}#sk-container-id-8 div.sk-label:hover label.sk-toggleable__label {background-color: #d4ebff;}#sk-container-id-8 div.sk-serial::before {content: \"\";position: absolute;border-left: 1px solid gray;box-sizing: border-box;top: 0;bottom: 0;left: 50%;z-index: 0;}#sk-container-id-8 div.sk-serial {display: flex;flex-direction: column;align-items: center;background-color: white;padding-right: 0.2em;padding-left: 0.2em;position: relative;}#sk-container-id-8 div.sk-item {position: relative;z-index: 1;}#sk-container-id-8 div.sk-parallel {display: flex;align-items: stretch;justify-content: center;background-color: white;position: relative;}#sk-container-id-8 div.sk-item::before, #sk-container-id-8 div.sk-parallel-item::before {content: \"\";position: absolute;border-left: 1px solid gray;box-sizing: border-box;top: 0;bottom: 0;left: 50%;z-index: -1;}#sk-container-id-8 div.sk-parallel-item {display: flex;flex-direction: column;z-index: 1;position: relative;background-color: white;}#sk-container-id-8 div.sk-parallel-item:first-child::after {align-self: flex-end;width: 50%;}#sk-container-id-8 div.sk-parallel-item:last-child::after {align-self: flex-start;width: 50%;}#sk-container-id-8 div.sk-parallel-item:only-child::after {width: 0;}#sk-container-id-8 div.sk-dashed-wrapped {border: 1px dashed gray;margin: 0 0.4em 0.5em 0.4em;box-sizing: border-box;padding-bottom: 0.4em;background-color: white;}#sk-container-id-8 div.sk-label label {font-family: monospace;font-weight: bold;display: inline-block;line-height: 1.2em;}#sk-container-id-8 div.sk-label-container {text-align: center;}#sk-container-id-8 div.sk-container {/* jupyter's `normalize.less` sets `[hidden] { display: none; }` but bootstrap.min.css set `[hidden] { display: none !important; }` so we also need the `!important` here to be able to override the default hidden behavior on the sphinx rendered scikit-learn.org. See: https://github.com/scikit-learn/scikit-learn/issues/21755 */display: inline-block !important;position: relative;}#sk-container-id-8 div.sk-text-repr-fallback {display: none;}</style><div id=\"sk-container-id-8\" class=\"sk-top-container\"><div class=\"sk-text-repr-fallback\"><pre>LinearRegression()</pre><b>In a Jupyter environment, please rerun this cell to show the HTML representation or trust the notebook. <br />On GitHub, the HTML representation is unable to render, please try loading this page with nbviewer.org.</b></div><div class=\"sk-container\" hidden><div class=\"sk-item\"><div class=\"sk-estimator sk-toggleable\"><input class=\"sk-toggleable__control sk-hidden--visually\" id=\"sk-estimator-id-8\" type=\"checkbox\" checked><label for=\"sk-estimator-id-8\" class=\"sk-toggleable__label sk-toggleable__label-arrow\">LinearRegression</label><div class=\"sk-toggleable__content\"><pre>LinearRegression()</pre></div></div></div></div></div>"
      ],
      "text/plain": [
       "LinearRegression()"
      ]
     },
     "execution_count": 94,
     "metadata": {},
     "output_type": "execute_result"
    }
   ],
   "source": [
    "from sklearn.linear_model import LinearRegression\n",
    "regressor = LinearRegression()\n",
    "regressor.fit(x_train,y_train)"
   ]
  },
  {
   "cell_type": "code",
   "execution_count": 95,
   "id": "1745c328-2544-409a-8b5f-274ffa339ca6",
   "metadata": {},
   "outputs": [],
   "source": [
    "y_pred = regressor.predict(x_test)"
   ]
  },
  {
   "cell_type": "code",
   "execution_count": 96,
   "id": "ee34b677-b2f7-41e9-ace7-3b00e23e232b",
   "metadata": {},
   "outputs": [
    {
     "name": "stdout",
     "output_type": "stream",
     "text": [
      "[300000 414950 238000 ... 436000 340000 235000]\n"
     ]
    }
   ],
   "source": [
    "print(y_test)"
   ]
  },
  {
   "cell_type": "code",
   "execution_count": 97,
   "id": "7abb2f82-9803-4179-9559-29973d7f8d0b",
   "metadata": {},
   "outputs": [
    {
     "name": "stdout",
     "output_type": "stream",
     "text": [
      "[280879.79946899 423033.56451416 194476.99035645 ... 449201.85464478\n",
      " 351102.00738525 190727.21432495]\n"
     ]
    }
   ],
   "source": [
    "print(y_pred)"
   ]
  },
  {
   "cell_type": "code",
   "execution_count": 98,
   "id": "f9066277-168e-4cbc-83fd-b27bae3a49fe",
   "metadata": {},
   "outputs": [
    {
     "name": "stdout",
     "output_type": "stream",
     "text": [
      "Train score:  0.9535377689044383\n"
     ]
    }
   ],
   "source": [
    "print(\"Train score: \",regressor.score(x_train,y_train))"
   ]
  },
  {
   "cell_type": "code",
   "execution_count": 99,
   "id": "eb751f3e-44c1-4c8c-9309-3021a8b1c68c",
   "metadata": {},
   "outputs": [
    {
     "name": "stdout",
     "output_type": "stream",
     "text": [
      "Test score:  0.949732971548739\n"
     ]
    }
   ],
   "source": [
    "print(\"Test score: \",regressor.score(x_test,y_test))"
   ]
  },
  {
   "cell_type": "markdown",
   "id": "de31176e-5c3e-4629-8c82-64d7693444d0",
   "metadata": {},
   "source": [
    "# Linear Regression on Co2 emission estimation model"
   ]
  },
  {
   "cell_type": "code",
   "execution_count": 10,
   "id": "7ad1e119-ffb6-4f07-bfc7-32961b2b2c0f",
   "metadata": {},
   "outputs": [],
   "source": [
    "import numpy as np\n",
    "import pandas as pd\n",
    "import matplotlib.pyplot as plt\n",
    "import seaborn as sns\n",
    "from scipy import sparse\n",
    "from sklearn.compose import ColumnTransformer\n",
    "from sklearn.preprocessing import LabelEncoder, OneHotEncoder\n",
    "from sklearn.model_selection import train_test_split\n",
    "from sklearn.linear_model import LinearRegression"
   ]
  },
  {
   "cell_type": "code",
   "execution_count": 11,
   "id": "ca46f326-bd15-4b96-8a62-c702f1df6896",
   "metadata": {},
   "outputs": [],
   "source": [
    "df = pd.read_csv('CO2 Emissions_Canada.csv')"
   ]
  },
  {
   "cell_type": "code",
   "execution_count": 48,
   "id": "9209be64-5e63-44d9-a504-caf2abb2880e",
   "metadata": {},
   "outputs": [
    {
     "data": {
      "text/html": [
       "<div>\n",
       "<style scoped>\n",
       "    .dataframe tbody tr th:only-of-type {\n",
       "        vertical-align: middle;\n",
       "    }\n",
       "\n",
       "    .dataframe tbody tr th {\n",
       "        vertical-align: top;\n",
       "    }\n",
       "\n",
       "    .dataframe thead th {\n",
       "        text-align: right;\n",
       "    }\n",
       "</style>\n",
       "<table border=\"1\" class=\"dataframe\">\n",
       "  <thead>\n",
       "    <tr style=\"text-align: right;\">\n",
       "      <th></th>\n",
       "      <th>Make</th>\n",
       "      <th>Model</th>\n",
       "      <th>Vehicle Class</th>\n",
       "      <th>Engine Size(L)</th>\n",
       "      <th>Cylinders</th>\n",
       "      <th>Transmission</th>\n",
       "      <th>Fuel Type</th>\n",
       "      <th>Fuel Consumption City (L/100 km)</th>\n",
       "      <th>Fuel Consumption Hwy (L/100 km)</th>\n",
       "      <th>Fuel Consumption Comb (L/100 km)</th>\n",
       "      <th>Fuel Consumption Comb (mpg)</th>\n",
       "      <th>CO2 Emissions(g/km)</th>\n",
       "    </tr>\n",
       "  </thead>\n",
       "  <tbody>\n",
       "    <tr>\n",
       "      <th>0</th>\n",
       "      <td>ACURA</td>\n",
       "      <td>ILX</td>\n",
       "      <td>COMPACT</td>\n",
       "      <td>2.0</td>\n",
       "      <td>4</td>\n",
       "      <td>AS5</td>\n",
       "      <td>Z</td>\n",
       "      <td>9.9</td>\n",
       "      <td>6.7</td>\n",
       "      <td>8.5</td>\n",
       "      <td>33</td>\n",
       "      <td>196</td>\n",
       "    </tr>\n",
       "    <tr>\n",
       "      <th>1</th>\n",
       "      <td>ACURA</td>\n",
       "      <td>ILX</td>\n",
       "      <td>COMPACT</td>\n",
       "      <td>2.4</td>\n",
       "      <td>4</td>\n",
       "      <td>M6</td>\n",
       "      <td>Z</td>\n",
       "      <td>11.2</td>\n",
       "      <td>7.7</td>\n",
       "      <td>9.6</td>\n",
       "      <td>29</td>\n",
       "      <td>221</td>\n",
       "    </tr>\n",
       "    <tr>\n",
       "      <th>2</th>\n",
       "      <td>ACURA</td>\n",
       "      <td>ILX HYBRID</td>\n",
       "      <td>COMPACT</td>\n",
       "      <td>1.5</td>\n",
       "      <td>4</td>\n",
       "      <td>AV7</td>\n",
       "      <td>Z</td>\n",
       "      <td>6.0</td>\n",
       "      <td>5.8</td>\n",
       "      <td>5.9</td>\n",
       "      <td>48</td>\n",
       "      <td>136</td>\n",
       "    </tr>\n",
       "    <tr>\n",
       "      <th>3</th>\n",
       "      <td>ACURA</td>\n",
       "      <td>MDX 4WD</td>\n",
       "      <td>SUV - SMALL</td>\n",
       "      <td>3.5</td>\n",
       "      <td>6</td>\n",
       "      <td>AS6</td>\n",
       "      <td>Z</td>\n",
       "      <td>12.7</td>\n",
       "      <td>9.1</td>\n",
       "      <td>11.1</td>\n",
       "      <td>25</td>\n",
       "      <td>255</td>\n",
       "    </tr>\n",
       "    <tr>\n",
       "      <th>4</th>\n",
       "      <td>ACURA</td>\n",
       "      <td>RDX AWD</td>\n",
       "      <td>SUV - SMALL</td>\n",
       "      <td>3.5</td>\n",
       "      <td>6</td>\n",
       "      <td>AS6</td>\n",
       "      <td>Z</td>\n",
       "      <td>12.1</td>\n",
       "      <td>8.7</td>\n",
       "      <td>10.6</td>\n",
       "      <td>27</td>\n",
       "      <td>244</td>\n",
       "    </tr>\n",
       "  </tbody>\n",
       "</table>\n",
       "</div>"
      ],
      "text/plain": [
       "    Make       Model Vehicle Class  Engine Size(L)  Cylinders Transmission  \\\n",
       "0  ACURA         ILX       COMPACT             2.0          4          AS5   \n",
       "1  ACURA         ILX       COMPACT             2.4          4           M6   \n",
       "2  ACURA  ILX HYBRID       COMPACT             1.5          4          AV7   \n",
       "3  ACURA     MDX 4WD   SUV - SMALL             3.5          6          AS6   \n",
       "4  ACURA     RDX AWD   SUV - SMALL             3.5          6          AS6   \n",
       "\n",
       "  Fuel Type  Fuel Consumption City (L/100 km)  \\\n",
       "0         Z                               9.9   \n",
       "1         Z                              11.2   \n",
       "2         Z                               6.0   \n",
       "3         Z                              12.7   \n",
       "4         Z                              12.1   \n",
       "\n",
       "   Fuel Consumption Hwy (L/100 km)  Fuel Consumption Comb (L/100 km)  \\\n",
       "0                              6.7                               8.5   \n",
       "1                              7.7                               9.6   \n",
       "2                              5.8                               5.9   \n",
       "3                              9.1                              11.1   \n",
       "4                              8.7                              10.6   \n",
       "\n",
       "   Fuel Consumption Comb (mpg)  CO2 Emissions(g/km)  \n",
       "0                           33                  196  \n",
       "1                           29                  221  \n",
       "2                           48                  136  \n",
       "3                           25                  255  \n",
       "4                           27                  244  "
      ]
     },
     "execution_count": 48,
     "metadata": {},
     "output_type": "execute_result"
    }
   ],
   "source": [
    "df.head(5)"
   ]
  },
  {
   "cell_type": "code",
   "execution_count": 35,
   "id": "abbf0e0c-75ad-4c4b-ab5d-9ab621f43955",
   "metadata": {},
   "outputs": [
    {
     "data": {
      "text/plain": [
       "(7385, 12)"
      ]
     },
     "execution_count": 35,
     "metadata": {},
     "output_type": "execute_result"
    }
   ],
   "source": [
    "df.shape"
   ]
  },
  {
   "cell_type": "code",
   "execution_count": 36,
   "id": "c9bc0a2e-0500-4812-b6c7-15622256c202",
   "metadata": {},
   "outputs": [
    {
     "name": "stdout",
     "output_type": "stream",
     "text": [
      "(1103, 12)\n"
     ]
    }
   ],
   "source": [
    "duplicate_rows = df[df.duplicated()]\n",
    "print(duplicate_rows.shape)"
   ]
  },
  {
   "cell_type": "code",
   "execution_count": 37,
   "id": "53408ead-06e0-40a4-ad33-913181fdd629",
   "metadata": {},
   "outputs": [
    {
     "data": {
      "text/plain": [
       "Make                                7385\n",
       "Model                               7385\n",
       "Vehicle Class                       7385\n",
       "Engine Size(L)                      7385\n",
       "Cylinders                           7385\n",
       "Transmission                        7385\n",
       "Fuel Type                           7385\n",
       "Fuel Consumption City (L/100 km)    7385\n",
       "Fuel Consumption Hwy (L/100 km)     7385\n",
       "Fuel Consumption Comb (L/100 km)    7385\n",
       "Fuel Consumption Comb (mpg)         7385\n",
       "CO2 Emissions(g/km)                 7385\n",
       "dtype: int64"
      ]
     },
     "execution_count": 37,
     "metadata": {},
     "output_type": "execute_result"
    }
   ],
   "source": [
    "df.count()"
   ]
  },
  {
   "cell_type": "code",
   "execution_count": 38,
   "id": "77ae1f1e-be14-45bc-9dd0-0f1befd2c50e",
   "metadata": {},
   "outputs": [
    {
     "data": {
      "text/plain": [
       "Make                                6282\n",
       "Model                               6282\n",
       "Vehicle Class                       6282\n",
       "Engine Size(L)                      6282\n",
       "Cylinders                           6282\n",
       "Transmission                        6282\n",
       "Fuel Type                           6282\n",
       "Fuel Consumption City (L/100 km)    6282\n",
       "Fuel Consumption Hwy (L/100 km)     6282\n",
       "Fuel Consumption Comb (L/100 km)    6282\n",
       "Fuel Consumption Comb (mpg)         6282\n",
       "CO2 Emissions(g/km)                 6282\n",
       "dtype: int64"
      ]
     },
     "execution_count": 38,
     "metadata": {},
     "output_type": "execute_result"
    }
   ],
   "source": [
    "df = df.drop_duplicates()\n",
    "df.count()"
   ]
  },
  {
   "cell_type": "code",
   "execution_count": 39,
   "id": "8c3a7183-21c2-4cc1-bd54-688ded07bf9e",
   "metadata": {},
   "outputs": [
    {
     "data": {
      "text/plain": [
       "(6282, 12)"
      ]
     },
     "execution_count": 39,
     "metadata": {},
     "output_type": "execute_result"
    }
   ],
   "source": [
    "df.shape"
   ]
  },
  {
   "cell_type": "code",
   "execution_count": 43,
   "id": "6bfb2c97-1e86-4370-aa30-d795133557cf",
   "metadata": {},
   "outputs": [
    {
     "name": "stdout",
     "output_type": "stream",
     "text": [
      "Make                                0\n",
      "Model                               0\n",
      "Vehicle Class                       0\n",
      "Engine Size(L)                      0\n",
      "Cylinders                           0\n",
      "Transmission                        0\n",
      "Fuel Type                           0\n",
      "Fuel Consumption City (L/100 km)    0\n",
      "Fuel Consumption Hwy (L/100 km)     0\n",
      "Fuel Consumption Comb (L/100 km)    0\n",
      "Fuel Consumption Comb (mpg)         0\n",
      "CO2 Emissions(g/km)                 0\n",
      "dtype: int64\n"
     ]
    }
   ],
   "source": [
    "print(df.isnull().sum())"
   ]
  },
  {
   "cell_type": "code",
   "execution_count": 44,
   "id": "53ce7ca5-2889-471b-9948-931d6e59a15f",
   "metadata": {},
   "outputs": [],
   "source": [
    "df = df.dropna()"
   ]
  },
  {
   "cell_type": "code",
   "execution_count": 45,
   "id": "ae9a5ec5-2768-452f-b13c-7b4568dd9dbe",
   "metadata": {},
   "outputs": [
    {
     "data": {
      "text/plain": [
       "(6282, 12)"
      ]
     },
     "execution_count": 45,
     "metadata": {},
     "output_type": "execute_result"
    }
   ],
   "source": [
    "df.shape"
   ]
  },
  {
   "cell_type": "code",
   "execution_count": 46,
   "id": "ec0e908c-92b1-4221-82e8-afebfb689dbd",
   "metadata": {},
   "outputs": [
    {
     "data": {
      "text/plain": [
       "Make                                6282\n",
       "Model                               6282\n",
       "Vehicle Class                       6282\n",
       "Engine Size(L)                      6282\n",
       "Cylinders                           6282\n",
       "Transmission                        6282\n",
       "Fuel Type                           6282\n",
       "Fuel Consumption City (L/100 km)    6282\n",
       "Fuel Consumption Hwy (L/100 km)     6282\n",
       "Fuel Consumption Comb (L/100 km)    6282\n",
       "Fuel Consumption Comb (mpg)         6282\n",
       "CO2 Emissions(g/km)                 6282\n",
       "dtype: int64"
      ]
     },
     "execution_count": 46,
     "metadata": {},
     "output_type": "execute_result"
    }
   ],
   "source": [
    "df.count()"
   ]
  },
  {
   "cell_type": "code",
   "execution_count": 49,
   "id": "f190f8aa-01f0-42db-bd76-9c998d5ec922",
   "metadata": {},
   "outputs": [
    {
     "data": {
      "image/png": "[encoded data removed]",
      "text/plain": [
       "<Figure size 640x480 with 1 Axes>"
      ]
     },
     "metadata": {},
     "output_type": "display_data"
    }
   ],
   "source": [
    "sns.boxplot(x = df['Engine Size(L)'])\n",
    "plt.show()"
   ]
  },
  {
   "cell_type": "code",
   "execution_count": 51,
   "id": "14780b2c-0908-4c0b-a929-7ad5ee809af9",
   "metadata": {},
   "outputs": [
    {
     "data": {
      "image/png": "[encoded data removed]",
      "text/plain": [
       "<Figure size 640x480 with 1 Axes>"
      ]
     },
     "metadata": {},
     "output_type": "display_data"
    }
   ],
   "source": [
    "sns.boxplot(x = df['Cylinders'])\n",
    "plt.show()"
   ]
  },
  {
   "cell_type": "code",
   "execution_count": 52,
   "id": "87f7e433-441a-4ef6-b1c6-a9628651c1d7",
   "metadata": {},
   "outputs": [
    {
     "name": "stdout",
     "output_type": "stream",
     "text": [
      "Engine Size(L)                       1.7\n",
      "Cylinders                            2.0\n",
      "Fuel Consumption City (L/100 km)     4.6\n",
      "Fuel Consumption Hwy (L/100 km)      2.8\n",
      "Fuel Consumption Comb (L/100 km)     3.8\n",
      "Fuel Consumption Comb (mpg)         10.0\n",
      "CO2 Emissions(g/km)                 81.0\n",
      "dtype: float64\n"
     ]
    }
   ],
   "source": [
    "Q1 = df.quantile(0.25, numeric_only=True)\n",
    "Q3 = df.quantile(0.75, numeric_only=True)\n",
    "IQR = Q3 -Q1\n",
    "print(IQR)"
   ]
  },
  {
   "cell_type": "code",
   "execution_count": 53,
   "id": "a7ae6a11-5001-4e18-82ac-de8e34e63780",
   "metadata": {},
   "outputs": [
    {
     "data": {
      "text/plain": [
       "(5816, 12)"
      ]
     },
     "execution_count": 53,
     "metadata": {},
     "output_type": "execute_result"
    }
   ],
   "source": [
    "df, Q1 = df.align(Q1, axis=1, copy=False)\n",
    "df, Q3 = df.align(Q3, axis=1, copy=False)\n",
    "\n",
    "df = df[~((df < (Q1 - 1.5 * IQR)) |(df > (Q3 + 1.5 * IQR))).any(axis=1)]\n",
    "df.shape"
   ]
  },
  {
   "cell_type": "code",
   "execution_count": 54,
   "id": "192c45c7-b168-4663-97eb-80b13642dd81",
   "metadata": {},
   "outputs": [
    {
     "data": {
      "text/html": [
       "<div>\n",
       "<style scoped>\n",
       "    .dataframe tbody tr th:only-of-type {\n",
       "        vertical-align: middle;\n",
       "    }\n",
       "\n",
       "    .dataframe tbody tr th {\n",
       "        vertical-align: top;\n",
       "    }\n",
       "\n",
       "    .dataframe thead th {\n",
       "        text-align: right;\n",
       "    }\n",
       "</style>\n",
       "<table border=\"1\" class=\"dataframe\">\n",
       "  <thead>\n",
       "    <tr style=\"text-align: right;\">\n",
       "      <th></th>\n",
       "      <th>CO2 Emissions(g/km)</th>\n",
       "      <th>Cylinders</th>\n",
       "      <th>Engine Size(L)</th>\n",
       "      <th>Fuel Consumption City (L/100 km)</th>\n",
       "      <th>Fuel Consumption Comb (L/100 km)</th>\n",
       "      <th>Fuel Consumption Comb (mpg)</th>\n",
       "      <th>Fuel Consumption Hwy (L/100 km)</th>\n",
       "      <th>Fuel Type</th>\n",
       "      <th>Make</th>\n",
       "      <th>Model</th>\n",
       "      <th>Transmission</th>\n",
       "      <th>Vehicle Class</th>\n",
       "    </tr>\n",
       "  </thead>\n",
       "  <tbody>\n",
       "    <tr>\n",
       "      <th>0</th>\n",
       "      <td>196</td>\n",
       "      <td>4</td>\n",
       "      <td>2.0</td>\n",
       "      <td>9.9</td>\n",
       "      <td>8.5</td>\n",
       "      <td>33</td>\n",
       "      <td>6.7</td>\n",
       "      <td>Z</td>\n",
       "      <td>ACURA</td>\n",
       "      <td>ILX</td>\n",
       "      <td>AS5</td>\n",
       "      <td>COMPACT</td>\n",
       "    </tr>\n",
       "    <tr>\n",
       "      <th>1</th>\n",
       "      <td>221</td>\n",
       "      <td>4</td>\n",
       "      <td>2.4</td>\n",
       "      <td>11.2</td>\n",
       "      <td>9.6</td>\n",
       "      <td>29</td>\n",
       "      <td>7.7</td>\n",
       "      <td>Z</td>\n",
       "      <td>ACURA</td>\n",
       "      <td>ILX</td>\n",
       "      <td>M6</td>\n",
       "      <td>COMPACT</td>\n",
       "    </tr>\n",
       "    <tr>\n",
       "      <th>3</th>\n",
       "      <td>255</td>\n",
       "      <td>6</td>\n",
       "      <td>3.5</td>\n",
       "      <td>12.7</td>\n",
       "      <td>11.1</td>\n",
       "      <td>25</td>\n",
       "      <td>9.1</td>\n",
       "      <td>Z</td>\n",
       "      <td>ACURA</td>\n",
       "      <td>MDX 4WD</td>\n",
       "      <td>AS6</td>\n",
       "      <td>SUV - SMALL</td>\n",
       "    </tr>\n",
       "    <tr>\n",
       "      <th>4</th>\n",
       "      <td>244</td>\n",
       "      <td>6</td>\n",
       "      <td>3.5</td>\n",
       "      <td>12.1</td>\n",
       "      <td>10.6</td>\n",
       "      <td>27</td>\n",
       "      <td>8.7</td>\n",
       "      <td>Z</td>\n",
       "      <td>ACURA</td>\n",
       "      <td>RDX AWD</td>\n",
       "      <td>AS6</td>\n",
       "      <td>SUV - SMALL</td>\n",
       "    </tr>\n",
       "    <tr>\n",
       "      <th>5</th>\n",
       "      <td>230</td>\n",
       "      <td>6</td>\n",
       "      <td>3.5</td>\n",
       "      <td>11.9</td>\n",
       "      <td>10.0</td>\n",
       "      <td>28</td>\n",
       "      <td>7.7</td>\n",
       "      <td>Z</td>\n",
       "      <td>ACURA</td>\n",
       "      <td>RLX</td>\n",
       "      <td>AS6</td>\n",
       "      <td>MID-SIZE</td>\n",
       "    </tr>\n",
       "    <tr>\n",
       "      <th>6</th>\n",
       "      <td>232</td>\n",
       "      <td>6</td>\n",
       "      <td>3.5</td>\n",
       "      <td>11.8</td>\n",
       "      <td>10.1</td>\n",
       "      <td>28</td>\n",
       "      <td>8.1</td>\n",
       "      <td>Z</td>\n",
       "      <td>ACURA</td>\n",
       "      <td>TL</td>\n",
       "      <td>AS6</td>\n",
       "      <td>MID-SIZE</td>\n",
       "    </tr>\n",
       "    <tr>\n",
       "      <th>7</th>\n",
       "      <td>255</td>\n",
       "      <td>6</td>\n",
       "      <td>3.7</td>\n",
       "      <td>12.8</td>\n",
       "      <td>11.1</td>\n",
       "      <td>25</td>\n",
       "      <td>9.0</td>\n",
       "      <td>Z</td>\n",
       "      <td>ACURA</td>\n",
       "      <td>TL AWD</td>\n",
       "      <td>AS6</td>\n",
       "      <td>MID-SIZE</td>\n",
       "    </tr>\n",
       "    <tr>\n",
       "      <th>8</th>\n",
       "      <td>267</td>\n",
       "      <td>6</td>\n",
       "      <td>3.7</td>\n",
       "      <td>13.4</td>\n",
       "      <td>11.6</td>\n",
       "      <td>24</td>\n",
       "      <td>9.5</td>\n",
       "      <td>Z</td>\n",
       "      <td>ACURA</td>\n",
       "      <td>TL AWD</td>\n",
       "      <td>M6</td>\n",
       "      <td>MID-SIZE</td>\n",
       "    </tr>\n",
       "    <tr>\n",
       "      <th>9</th>\n",
       "      <td>212</td>\n",
       "      <td>4</td>\n",
       "      <td>2.4</td>\n",
       "      <td>10.6</td>\n",
       "      <td>9.2</td>\n",
       "      <td>31</td>\n",
       "      <td>7.5</td>\n",
       "      <td>Z</td>\n",
       "      <td>ACURA</td>\n",
       "      <td>TSX</td>\n",
       "      <td>AS5</td>\n",
       "      <td>COMPACT</td>\n",
       "    </tr>\n",
       "    <tr>\n",
       "      <th>10</th>\n",
       "      <td>225</td>\n",
       "      <td>4</td>\n",
       "      <td>2.4</td>\n",
       "      <td>11.2</td>\n",
       "      <td>9.8</td>\n",
       "      <td>29</td>\n",
       "      <td>8.1</td>\n",
       "      <td>Z</td>\n",
       "      <td>ACURA</td>\n",
       "      <td>TSX</td>\n",
       "      <td>M6</td>\n",
       "      <td>COMPACT</td>\n",
       "    </tr>\n",
       "    <tr>\n",
       "      <th>11</th>\n",
       "      <td>239</td>\n",
       "      <td>6</td>\n",
       "      <td>3.5</td>\n",
       "      <td>12.1</td>\n",
       "      <td>10.4</td>\n",
       "      <td>27</td>\n",
       "      <td>8.3</td>\n",
       "      <td>Z</td>\n",
       "      <td>ACURA</td>\n",
       "      <td>TSX</td>\n",
       "      <td>AS5</td>\n",
       "      <td>COMPACT</td>\n",
       "    </tr>\n",
       "    <tr>\n",
       "      <th>12</th>\n",
       "      <td>193</td>\n",
       "      <td>4</td>\n",
       "      <td>1.8</td>\n",
       "      <td>9.7</td>\n",
       "      <td>8.4</td>\n",
       "      <td>34</td>\n",
       "      <td>6.9</td>\n",
       "      <td>Z</td>\n",
       "      <td>ALFA ROMEO</td>\n",
       "      <td>4C</td>\n",
       "      <td>AM6</td>\n",
       "      <td>TWO-SEATER</td>\n",
       "    </tr>\n",
       "    <tr>\n",
       "      <th>15</th>\n",
       "      <td>338</td>\n",
       "      <td>8</td>\n",
       "      <td>4.7</td>\n",
       "      <td>17.4</td>\n",
       "      <td>14.7</td>\n",
       "      <td>19</td>\n",
       "      <td>11.3</td>\n",
       "      <td>Z</td>\n",
       "      <td>ASTON MARTIN</td>\n",
       "      <td>V8 VANTAGE</td>\n",
       "      <td>AM7</td>\n",
       "      <td>TWO-SEATER</td>\n",
       "    </tr>\n",
       "    <tr>\n",
       "      <th>16</th>\n",
       "      <td>354</td>\n",
       "      <td>8</td>\n",
       "      <td>4.7</td>\n",
       "      <td>18.1</td>\n",
       "      <td>15.4</td>\n",
       "      <td>18</td>\n",
       "      <td>12.2</td>\n",
       "      <td>Z</td>\n",
       "      <td>ASTON MARTIN</td>\n",
       "      <td>V8 VANTAGE</td>\n",
       "      <td>M6</td>\n",
       "      <td>TWO-SEATER</td>\n",
       "    </tr>\n",
       "    <tr>\n",
       "      <th>17</th>\n",
       "      <td>338</td>\n",
       "      <td>8</td>\n",
       "      <td>4.7</td>\n",
       "      <td>17.4</td>\n",
       "      <td>14.7</td>\n",
       "      <td>19</td>\n",
       "      <td>11.3</td>\n",
       "      <td>Z</td>\n",
       "      <td>ASTON MARTIN</td>\n",
       "      <td>V8 VANTAGE S</td>\n",
       "      <td>AM7</td>\n",
       "      <td>TWO-SEATER</td>\n",
       "    </tr>\n",
       "    <tr>\n",
       "      <th>18</th>\n",
       "      <td>354</td>\n",
       "      <td>8</td>\n",
       "      <td>4.7</td>\n",
       "      <td>18.1</td>\n",
       "      <td>15.4</td>\n",
       "      <td>18</td>\n",
       "      <td>12.2</td>\n",
       "      <td>Z</td>\n",
       "      <td>ASTON MARTIN</td>\n",
       "      <td>V8 VANTAGE S</td>\n",
       "      <td>M6</td>\n",
       "      <td>TWO-SEATER</td>\n",
       "    </tr>\n",
       "    <tr>\n",
       "      <th>20</th>\n",
       "      <td>202</td>\n",
       "      <td>4</td>\n",
       "      <td>2.0</td>\n",
       "      <td>9.9</td>\n",
       "      <td>8.8</td>\n",
       "      <td>32</td>\n",
       "      <td>7.4</td>\n",
       "      <td>Z</td>\n",
       "      <td>AUDI</td>\n",
       "      <td>A4</td>\n",
       "      <td>AV8</td>\n",
       "      <td>COMPACT</td>\n",
       "    </tr>\n",
       "    <tr>\n",
       "      <th>21</th>\n",
       "      <td>230</td>\n",
       "      <td>4</td>\n",
       "      <td>2.0</td>\n",
       "      <td>11.5</td>\n",
       "      <td>10.0</td>\n",
       "      <td>28</td>\n",
       "      <td>8.1</td>\n",
       "      <td>Z</td>\n",
       "      <td>AUDI</td>\n",
       "      <td>A4 QUATTRO</td>\n",
       "      <td>AS8</td>\n",
       "      <td>COMPACT</td>\n",
       "    </tr>\n",
       "    <tr>\n",
       "      <th>22</th>\n",
       "      <td>214</td>\n",
       "      <td>4</td>\n",
       "      <td>2.0</td>\n",
       "      <td>10.8</td>\n",
       "      <td>9.3</td>\n",
       "      <td>30</td>\n",
       "      <td>7.5</td>\n",
       "      <td>Z</td>\n",
       "      <td>AUDI</td>\n",
       "      <td>A4 QUATTRO</td>\n",
       "      <td>M6</td>\n",
       "      <td>COMPACT</td>\n",
       "    </tr>\n",
       "    <tr>\n",
       "      <th>23</th>\n",
       "      <td>230</td>\n",
       "      <td>4</td>\n",
       "      <td>2.0</td>\n",
       "      <td>11.5</td>\n",
       "      <td>10.0</td>\n",
       "      <td>28</td>\n",
       "      <td>8.1</td>\n",
       "      <td>Z</td>\n",
       "      <td>AUDI</td>\n",
       "      <td>A5 CABRIOLET QUATTRO</td>\n",
       "      <td>AS8</td>\n",
       "      <td>SUBCOMPACT</td>\n",
       "    </tr>\n",
       "  </tbody>\n",
       "</table>\n",
       "</div>"
      ],
      "text/plain": [
       "    CO2 Emissions(g/km)  Cylinders  Engine Size(L)  \\\n",
       "0                   196          4             2.0   \n",
       "1                   221          4             2.4   \n",
       "3                   255          6             3.5   \n",
       "4                   244          6             3.5   \n",
       "5                   230          6             3.5   \n",
       "6                   232          6             3.5   \n",
       "7                   255          6             3.7   \n",
       "8                   267          6             3.7   \n",
       "9                   212          4             2.4   \n",
       "10                  225          4             2.4   \n",
       "11                  239          6             3.5   \n",
       "12                  193          4             1.8   \n",
       "15                  338          8             4.7   \n",
       "16                  354          8             4.7   \n",
       "17                  338          8             4.7   \n",
       "18                  354          8             4.7   \n",
       "20                  202          4             2.0   \n",
       "21                  230          4             2.0   \n",
       "22                  214          4             2.0   \n",
       "23                  230          4             2.0   \n",
       "\n",
       "    Fuel Consumption City (L/100 km)  Fuel Consumption Comb (L/100 km)  \\\n",
       "0                                9.9                               8.5   \n",
       "1                               11.2                               9.6   \n",
       "3                               12.7                              11.1   \n",
       "4                               12.1                              10.6   \n",
       "5                               11.9                              10.0   \n",
       "6                               11.8                              10.1   \n",
       "7                               12.8                              11.1   \n",
       "8                               13.4                              11.6   \n",
       "9                               10.6                               9.2   \n",
       "10                              11.2                               9.8   \n",
       "11                              12.1                              10.4   \n",
       "12                               9.7                               8.4   \n",
       "15                              17.4                              14.7   \n",
       "16                              18.1                              15.4   \n",
       "17                              17.4                              14.7   \n",
       "18                              18.1                              15.4   \n",
       "20                               9.9                               8.8   \n",
       "21                              11.5                              10.0   \n",
       "22                              10.8                               9.3   \n",
       "23                              11.5                              10.0   \n",
       "\n",
       "    Fuel Consumption Comb (mpg)  Fuel Consumption Hwy (L/100 km) Fuel Type  \\\n",
       "0                            33                              6.7         Z   \n",
       "1                            29                              7.7         Z   \n",
       "3                            25                              9.1         Z   \n",
       "4                            27                              8.7         Z   \n",
       "5                            28                              7.7         Z   \n",
       "6                            28                              8.1         Z   \n",
       "7                            25                              9.0         Z   \n",
       "8                            24                              9.5         Z   \n",
       "9                            31                              7.5         Z   \n",
       "10                           29                              8.1         Z   \n",
       "11                           27                              8.3         Z   \n",
       "12                           34                              6.9         Z   \n",
       "15                           19                             11.3         Z   \n",
       "16                           18                             12.2         Z   \n",
       "17                           19                             11.3         Z   \n",
       "18                           18                             12.2         Z   \n",
       "20                           32                              7.4         Z   \n",
       "21                           28                              8.1         Z   \n",
       "22                           30                              7.5         Z   \n",
       "23                           28                              8.1         Z   \n",
       "\n",
       "            Make                 Model Transmission Vehicle Class  \n",
       "0          ACURA                   ILX          AS5       COMPACT  \n",
       "1          ACURA                   ILX           M6       COMPACT  \n",
       "3          ACURA               MDX 4WD          AS6   SUV - SMALL  \n",
       "4          ACURA               RDX AWD          AS6   SUV - SMALL  \n",
       "5          ACURA                   RLX          AS6      MID-SIZE  \n",
       "6          ACURA                    TL          AS6      MID-SIZE  \n",
       "7          ACURA                TL AWD          AS6      MID-SIZE  \n",
       "8          ACURA                TL AWD           M6      MID-SIZE  \n",
       "9          ACURA                   TSX          AS5       COMPACT  \n",
       "10         ACURA                   TSX           M6       COMPACT  \n",
       "11         ACURA                   TSX          AS5       COMPACT  \n",
       "12    ALFA ROMEO                    4C          AM6    TWO-SEATER  \n",
       "15  ASTON MARTIN            V8 VANTAGE          AM7    TWO-SEATER  \n",
       "16  ASTON MARTIN            V8 VANTAGE           M6    TWO-SEATER  \n",
       "17  ASTON MARTIN          V8 VANTAGE S          AM7    TWO-SEATER  \n",
       "18  ASTON MARTIN          V8 VANTAGE S           M6    TWO-SEATER  \n",
       "20          AUDI                    A4          AV8       COMPACT  \n",
       "21          AUDI            A4 QUATTRO          AS8       COMPACT  \n",
       "22          AUDI            A4 QUATTRO           M6       COMPACT  \n",
       "23          AUDI  A5 CABRIOLET QUATTRO          AS8    SUBCOMPACT  "
      ]
     },
     "execution_count": 54,
     "metadata": {},
     "output_type": "execute_result"
    }
   ],
   "source": [
    "df.head(20)"
   ]
  },
  {
   "cell_type": "code",
   "execution_count": 88,
   "id": "68125785-e8f0-45f3-851c-d6b499c1ae4d",
   "metadata": {},
   "outputs": [],
   "source": [
    "x = df.iloc[:,1:7].values\n",
    "y = df.iloc[:,0].values"
   ]
  },
  {
   "cell_type": "code",
   "execution_count": 89,
   "id": "92355aac-1b60-4a85-94e5-3e2ae0939cd7",
   "metadata": {},
   "outputs": [
    {
     "name": "stdout",
     "output_type": "stream",
     "text": [
      "[[ 4.   2.   9.9  8.5 33.   6.7]\n",
      " [ 4.   2.4 11.2  9.6 29.   7.7]\n",
      " [ 6.   3.5 12.7 11.1 25.   9.1]\n",
      " ...\n",
      " [ 4.   2.  11.7 10.3 27.   8.6]\n",
      " [ 4.   2.  11.2  9.9 29.   8.3]\n",
      " [ 4.   2.  12.2 10.7 26.   8.7]]\n"
     ]
    }
   ],
   "source": [
    "print(x)"
   ]
  },
  {
   "cell_type": "code",
   "execution_count": 90,
   "id": "8f659b19-caf6-43f6-a67a-07346becdf1e",
   "metadata": {},
   "outputs": [
    {
     "data": {
      "text/plain": [
       "(5816, 6)"
      ]
     },
     "execution_count": 90,
     "metadata": {},
     "output_type": "execute_result"
    }
   ],
   "source": [
    "x.shape"
   ]
  },
  {
   "cell_type": "code",
   "execution_count": 91,
   "id": "e4f080be-73b9-472e-ab9a-4ea29180fbf1",
   "metadata": {},
   "outputs": [
    {
     "name": "stdout",
     "output_type": "stream",
     "text": [
      "[[ 4.   2.   9.9  8.5 33.   6.7]\n",
      " [ 4.   2.4 11.2  9.6 29.   7.7]\n",
      " [ 6.   3.5 12.7 11.1 25.   9.1]\n",
      " ...\n",
      " [ 4.   2.  11.7 10.3 27.   8.6]\n",
      " [ 4.   2.  11.2  9.9 29.   8.3]\n",
      " [ 4.   2.  12.2 10.7 26.   8.7]]\n"
     ]
    }
   ],
   "source": [
    "print(x)"
   ]
  },
  {
   "cell_type": "code",
   "execution_count": 92,
   "id": "88613c0c-ad1e-4292-8d6c-d7a70d793195",
   "metadata": {},
   "outputs": [
    {
     "data": {
      "text/plain": [
       "(5816, 6)"
      ]
     },
     "execution_count": 92,
     "metadata": {},
     "output_type": "execute_result"
    }
   ],
   "source": [
    "x.shape"
   ]
  },
  {
   "cell_type": "code",
   "execution_count": 94,
   "id": "f4c6ccd7-0c8e-4f65-a91b-9d7f1e564f70",
   "metadata": {},
   "outputs": [],
   "source": [
    "from sklearn.model_selection import train_test_split  \n",
    "x_train, x_test, y_train, y_test= train_test_split(x, y, test_size= 0.2, random_state=0)  "
   ]
  },
  {
   "cell_type": "code",
   "execution_count": 96,
   "id": "7ea43c06-cb04-494a-9d17-e3d2a0c6d384",
   "metadata": {},
   "outputs": [
    {
     "data": {
      "text/html": [
       "<style>#sk-container-id-4 {color: black;background-color: white;}#sk-container-id-4 pre{padding: 0;}#sk-container-id-4 div.sk-toggleable {background-color: white;}#sk-container-id-4 label.sk-toggleable__label {cursor: pointer;display: block;width: 100%;margin-bottom: 0;padding: 0.3em;box-sizing: border-box;text-align: center;}#sk-container-id-4 label.sk-toggleable__label-arrow:before {content: \"▸\";float: left;margin-right: 0.25em;color: #696969;}#sk-container-id-4 label.sk-toggleable__label-arrow:hover:before {color: black;}#sk-container-id-4 div.sk-estimator:hover label.sk-toggleable__label-arrow:before {color: black;}#sk-container-id-4 div.sk-toggleable__content {max-height: 0;max-width: 0;overflow: hidden;text-align: left;background-color: #f0f8ff;}#sk-container-id-4 div.sk-toggleable__content pre {margin: 0.2em;color: black;border-radius: 0.25em;background-color: #f0f8ff;}#sk-container-id-4 input.sk-toggleable__control:checked~div.sk-toggleable__content {max-height: 200px;max-width: 100%;overflow: auto;}#sk-container-id-4 input.sk-toggleable__control:checked~label.sk-toggleable__label-arrow:before {content: \"▾\";}#sk-container-id-4 div.sk-estimator input.sk-toggleable__control:checked~label.sk-toggleable__label {background-color: #d4ebff;}#sk-container-id-4 div.sk-label input.sk-toggleable__control:checked~label.sk-toggleable__label {background-color: #d4ebff;}#sk-container-id-4 input.sk-hidden--visually {border: 0;clip: rect(1px 1px 1px 1px);clip: rect(1px, 1px, 1px, 1px);height: 1px;margin: -1px;overflow: hidden;padding: 0;position: absolute;width: 1px;}#sk-container-id-4 div.sk-estimator {font-family: monospace;background-color: #f0f8ff;border: 1px dotted black;border-radius: 0.25em;box-sizing: border-box;margin-bottom: 0.5em;}#sk-container-id-4 div.sk-estimator:hover {background-color: #d4ebff;}#sk-container-id-4 div.sk-parallel-item::after {content: \"\";width: 100%;border-bottom: 1px solid gray;flex-grow: 1;}#sk-container-id-4 div.sk-label:hover label.sk-toggleable__label {background-color: #d4ebff;}#sk-container-id-4 div.sk-serial::before {content: \"\";position: absolute;border-left: 1px solid gray;box-sizing: border-box;top: 0;bottom: 0;left: 50%;z-index: 0;}#sk-container-id-4 div.sk-serial {display: flex;flex-direction: column;align-items: center;background-color: white;padding-right: 0.2em;padding-left: 0.2em;position: relative;}#sk-container-id-4 div.sk-item {position: relative;z-index: 1;}#sk-container-id-4 div.sk-parallel {display: flex;align-items: stretch;justify-content: center;background-color: white;position: relative;}#sk-container-id-4 div.sk-item::before, #sk-container-id-4 div.sk-parallel-item::before {content: \"\";position: absolute;border-left: 1px solid gray;box-sizing: border-box;top: 0;bottom: 0;left: 50%;z-index: -1;}#sk-container-id-4 div.sk-parallel-item {display: flex;flex-direction: column;z-index: 1;position: relative;background-color: white;}#sk-container-id-4 div.sk-parallel-item:first-child::after {align-self: flex-end;width: 50%;}#sk-container-id-4 div.sk-parallel-item:last-child::after {align-self: flex-start;width: 50%;}#sk-container-id-4 div.sk-parallel-item:only-child::after {width: 0;}#sk-container-id-4 div.sk-dashed-wrapped {border: 1px dashed gray;margin: 0 0.4em 0.5em 0.4em;box-sizing: border-box;padding-bottom: 0.4em;background-color: white;}#sk-container-id-4 div.sk-label label {font-family: monospace;font-weight: bold;display: inline-block;line-height: 1.2em;}#sk-container-id-4 div.sk-label-container {text-align: center;}#sk-container-id-4 div.sk-container {/* jupyter's `normalize.less` sets `[hidden] { display: none; }` but bootstrap.min.css set `[hidden] { display: none !important; }` so we also need the `!important` here to be able to override the default hidden behavior on the sphinx rendered scikit-learn.org. See: https://github.com/scikit-learn/scikit-learn/issues/21755 */display: inline-block !important;position: relative;}#sk-container-id-4 div.sk-text-repr-fallback {display: none;}</style><div id=\"sk-container-id-4\" class=\"sk-top-container\"><div class=\"sk-text-repr-fallback\"><pre>LinearRegression()</pre><b>In a Jupyter environment, please rerun this cell to show the HTML representation or trust the notebook. <br />On GitHub, the HTML representation is unable to render, please try loading this page with nbviewer.org.</b></div><div class=\"sk-container\" hidden><div class=\"sk-item\"><div class=\"sk-estimator sk-toggleable\"><input class=\"sk-toggleable__control sk-hidden--visually\" id=\"sk-estimator-id-4\" type=\"checkbox\" checked><label for=\"sk-estimator-id-4\" class=\"sk-toggleable__label sk-toggleable__label-arrow\">LinearRegression</label><div class=\"sk-toggleable__content\"><pre>LinearRegression()</pre></div></div></div></div></div>"
      ],
      "text/plain": [
       "LinearRegression()"
      ]
     },
     "execution_count": 96,
     "metadata": {},
     "output_type": "execute_result"
    }
   ],
   "source": [
    "regressor= LinearRegression()  \n",
    "regressor.fit(x_train, y_train)  "
   ]
  },
  {
   "cell_type": "code",
   "execution_count": 97,
   "id": "bd53deaa-482c-404c-8136-c4493484a4d3",
   "metadata": {},
   "outputs": [],
   "source": [
    "y_pred= regressor.predict(x_test)  "
   ]
  },
  {
   "cell_type": "code",
   "execution_count": 98,
   "id": "ec6e8bf6-3fe5-4f39-be54-77b25d114771",
   "metadata": {},
   "outputs": [
    {
     "name": "stdout",
     "output_type": "stream",
     "text": [
      "Train Score:  0.8961870773059216\n"
     ]
    }
   ],
   "source": [
    "print('Train Score: ', regressor.score(x_train, y_train))  "
   ]
  },
  {
   "cell_type": "code",
   "execution_count": 87,
   "id": "a45b58ee-bc1a-47f0-8386-737e73bf9574",
   "metadata": {},
   "outputs": [
    {
     "name": "stdout",
     "output_type": "stream",
     "text": [
      "Train Score:  0.8924227994701973\n"
     ]
    }
   ],
   "source": [
    "print('Train Score: ', regressor.score(x_train, y_train))    "
   ]
  },
  {
   "cell_type": "code",
   "execution_count": null,
   "id": "38dd835a-c771-49f4-8db9-00e470f2d5d4",
   "metadata": {},
   "outputs": [],
   "source": []
  }
 ],
 "metadata": {
  "kernelspec": {
   "display_name": "Python 3 (ipykernel)",
   "language": "python",
   "name": "python3"
  },
  "language_info": {
   "codemirror_mode": {
    "name": "ipython",
    "version": 3
   },
   "file_extension": ".py",
   "mimetype": "text/x-python",
   "name": "python",
   "nbconvert_exporter": "python",
   "pygments_lexer": "ipython3",
   "version": "3.9.16"
  }
 },
 "nbformat": 4,
 "nbformat_minor": 5
}
