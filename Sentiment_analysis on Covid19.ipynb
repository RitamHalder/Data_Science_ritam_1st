{
 "cells": [
  {
   "cell_type": "code",
   "execution_count": 1,
   "id": "774edf1e-9775-429c-9990-6860f1538bad",
   "metadata": {
    "is_executing": true
   },
   "outputs": [],
   "source": [
    "import collections\n",
    "import pathlib\n",
    "import tensorflow as tf\n",
    "from tensorflow.keras import layers\n",
    "from tensorflow.keras import losses\n",
    "from tensorflow.keras import utils\n",
    "from tensorflow.keras.layers import TextVectorization\n",
    "import matplotlib.pyplot as plt\n",
    "import os\n",
    "import shutil\n",
    "import string\n",
    "import re\n",
    "import pandas as pd\n",
    "from keras.preprocessing.text import Tokenizer\n",
    "from keras.preprocessing.sequence import pad_sequences\n",
    "from keras.models import Sequential\n",
    "from keras.layers import Dense, Embedding, LSTM, SpatialDropout1D\n",
    "from sklearn.model_selection import train_test_split"
   ]
  },
  {
   "cell_type": "code",
   "execution_count": 2,
   "id": "7f805b24-8487-4122-a581-74eba6a53f1b",
   "metadata": {
    "is_executing": true
   },
   "outputs": [],
   "source": [
    "covid_df = pd.read_csv(\"Covid-19_Twitter_Dataset (Apr-Jun 2020).csv\")"
   ]
  },
  {
   "cell_type": "code",
   "execution_count": 3,
   "id": "9ce86c0d-bf2e-4a99-9a47-d6bfbc755318",
   "metadata": {
    "is_executing": true
   },
   "outputs": [
    {
     "name": "stdout",
     "output_type": "stream",
     "text": [
      "Dataset size:  143903\n"
     ]
    }
   ],
   "source": [
    "print(\"Dataset size: \", len(covid_df))"
   ]
  },
  {
   "cell_type": "code",
   "execution_count": 4,
   "id": "31d010e8-1b13-44bd-8074-eceebf026725",
   "metadata": {
    "is_executing": true
   },
   "outputs": [],
   "source": [
    "max_features = 20000\n",
    "max_sequence_length = 100"
   ]
  },
  {
   "cell_type": "code",
   "execution_count": 5,
   "id": "558a63f4-b2df-40a9-a4f5-c8f67aa1dc55",
   "metadata": {
    "is_executing": true,
    "scrolled": true
   },
   "outputs": [
    {
     "data": {
      "text/html": [
       "<div>\n",
       "<style scoped>\n",
       "    .dataframe tbody tr th:only-of-type {\n",
       "        vertical-align: middle;\n",
       "    }\n",
       "\n",
       "    .dataframe tbody tr th {\n",
       "        vertical-align: top;\n",
       "    }\n",
       "\n",
       "    .dataframe thead th {\n",
       "        text-align: right;\n",
       "    }\n",
       "</style>\n",
       "<table border=\"1\" class=\"dataframe\">\n",
       "  <thead>\n",
       "    <tr style=\"text-align: right;\">\n",
       "      <th></th>\n",
       "      <th>id</th>\n",
       "      <th>created_at</th>\n",
       "      <th>source</th>\n",
       "      <th>original_text</th>\n",
       "      <th>lang</th>\n",
       "      <th>favorite_count</th>\n",
       "      <th>retweet_count</th>\n",
       "      <th>original_author</th>\n",
       "      <th>hashtags</th>\n",
       "      <th>user_mentions</th>\n",
       "      <th>place</th>\n",
       "      <th>clean_tweet</th>\n",
       "      <th>compound</th>\n",
       "      <th>neg</th>\n",
       "      <th>neu</th>\n",
       "      <th>pos</th>\n",
       "      <th>sentiment</th>\n",
       "    </tr>\n",
       "  </thead>\n",
       "  <tbody>\n",
       "    <tr>\n",
       "      <th>0</th>\n",
       "      <td>1.250000e+18</td>\n",
       "      <td>2020-04-19</td>\n",
       "      <td>&lt;a href=\"http://twitter.com/download/android\" ...</td>\n",
       "      <td>RT @GlblCtzn: .@priyankachopra is calling on l...</td>\n",
       "      <td>en</td>\n",
       "      <td>0.0</td>\n",
       "      <td>31.0</td>\n",
       "      <td>RJIshak</td>\n",
       "      <td>NaN</td>\n",
       "      <td>GlblCtzn, priyankachopra</td>\n",
       "      <td>Jakarta Capital Region</td>\n",
       "      <td>call leader help protect refuge covid19 provid...</td>\n",
       "      <td>0.8176</td>\n",
       "      <td>0.0</td>\n",
       "      <td>0.452</td>\n",
       "      <td>0.548</td>\n",
       "      <td>pos</td>\n",
       "    </tr>\n",
       "    <tr>\n",
       "      <th>1</th>\n",
       "      <td>1.250000e+18</td>\n",
       "      <td>2020-04-19</td>\n",
       "      <td>&lt;a href=\"http://twitter.com/download/android\" ...</td>\n",
       "      <td>RT @OGSG_Official: OGUN STATE SUPPORT FOR CBN-...</td>\n",
       "      <td>en</td>\n",
       "      <td>0.0</td>\n",
       "      <td>61.0</td>\n",
       "      <td>makinwaoluwole</td>\n",
       "      <td>NaN</td>\n",
       "      <td>OGSG_Official</td>\n",
       "      <td>Nigeria</td>\n",
       "      <td>ogun state support cbn nirsal covid19 target c...</td>\n",
       "      <td>0.6486</td>\n",
       "      <td>0.0</td>\n",
       "      <td>0.602</td>\n",
       "      <td>0.398</td>\n",
       "      <td>pos</td>\n",
       "    </tr>\n",
       "    <tr>\n",
       "      <th>2</th>\n",
       "      <td>1.250000e+18</td>\n",
       "      <td>2020-04-19</td>\n",
       "      <td>&lt;a href=\"http://twitter.com/download/iphone\" r...</td>\n",
       "      <td>RT @AdvoBarryRoux: These 5 police officials ba...</td>\n",
       "      <td>en</td>\n",
       "      <td>0.0</td>\n",
       "      <td>1.0</td>\n",
       "      <td>TembeAmu</td>\n",
       "      <td>NaN</td>\n",
       "      <td>AdvoBarryRoux</td>\n",
       "      <td>NaN</td>\n",
       "      <td>polic offici base namahadi polic station busi ...</td>\n",
       "      <td>0.2732</td>\n",
       "      <td>0.0</td>\n",
       "      <td>0.851</td>\n",
       "      <td>0.149</td>\n",
       "      <td>pos</td>\n",
       "    </tr>\n",
       "    <tr>\n",
       "      <th>3</th>\n",
       "      <td>1.250000e+18</td>\n",
       "      <td>2020-04-19</td>\n",
       "      <td>&lt;a href=\"http://twitter.com/download/iphone\" r...</td>\n",
       "      <td>RT @MobilePunch: COVID-19: Oyo discharges two ...</td>\n",
       "      <td>en</td>\n",
       "      <td>0.0</td>\n",
       "      <td>0.0</td>\n",
       "      <td>ilyasrabiu</td>\n",
       "      <td>NaN</td>\n",
       "      <td>MobilePunch</td>\n",
       "      <td>Lagos, Nigeria</td>\n",
       "      <td>covid19 oyo discharg two patient</td>\n",
       "      <td>0.0000</td>\n",
       "      <td>0.0</td>\n",
       "      <td>1.000</td>\n",
       "      <td>0.000</td>\n",
       "      <td>neu</td>\n",
       "    </tr>\n",
       "    <tr>\n",
       "      <th>4</th>\n",
       "      <td>1.250000e+18</td>\n",
       "      <td>2020-04-19</td>\n",
       "      <td>&lt;a href=\"http://twitter.com/download/android\" ...</td>\n",
       "      <td>My Condolences to the Family of those who did ...</td>\n",
       "      <td>en</td>\n",
       "      <td>0.0</td>\n",
       "      <td>13869.0</td>\n",
       "      <td>bucketeconomist</td>\n",
       "      <td>Covid_19</td>\n",
       "      <td>NaN</td>\n",
       "      <td>NaN</td>\n",
       "      <td>condol famili surviv</td>\n",
       "      <td>0.0000</td>\n",
       "      <td>0.0</td>\n",
       "      <td>1.000</td>\n",
       "      <td>0.000</td>\n",
       "      <td>neu</td>\n",
       "    </tr>\n",
       "  </tbody>\n",
       "</table>\n",
       "</div>"
      ],
      "text/plain": [
       "             id  created_at  \\\n",
       "0  1.250000e+18  2020-04-19   \n",
       "1  1.250000e+18  2020-04-19   \n",
       "2  1.250000e+18  2020-04-19   \n",
       "3  1.250000e+18  2020-04-19   \n",
       "4  1.250000e+18  2020-04-19   \n",
       "\n",
       "                                              source  \\\n",
       "0  <a href=\"http://twitter.com/download/android\" ...   \n",
       "1  <a href=\"http://twitter.com/download/android\" ...   \n",
       "2  <a href=\"http://twitter.com/download/iphone\" r...   \n",
       "3  <a href=\"http://twitter.com/download/iphone\" r...   \n",
       "4  <a href=\"http://twitter.com/download/android\" ...   \n",
       "\n",
       "                                       original_text lang  favorite_count  \\\n",
       "0  RT @GlblCtzn: .@priyankachopra is calling on l...   en             0.0   \n",
       "1  RT @OGSG_Official: OGUN STATE SUPPORT FOR CBN-...   en             0.0   \n",
       "2  RT @AdvoBarryRoux: These 5 police officials ba...   en             0.0   \n",
       "3  RT @MobilePunch: COVID-19: Oyo discharges two ...   en             0.0   \n",
       "4  My Condolences to the Family of those who did ...   en             0.0   \n",
       "\n",
       "   retweet_count  original_author  hashtags             user_mentions  \\\n",
       "0           31.0          RJIshak       NaN  GlblCtzn, priyankachopra   \n",
       "1           61.0   makinwaoluwole       NaN             OGSG_Official   \n",
       "2            1.0         TembeAmu       NaN             AdvoBarryRoux   \n",
       "3            0.0       ilyasrabiu       NaN               MobilePunch   \n",
       "4        13869.0  bucketeconomist  Covid_19                       NaN   \n",
       "\n",
       "                    place                                        clean_tweet  \\\n",
       "0  Jakarta Capital Region  call leader help protect refuge covid19 provid...   \n",
       "1                 Nigeria  ogun state support cbn nirsal covid19 target c...   \n",
       "2                     NaN  polic offici base namahadi polic station busi ...   \n",
       "3          Lagos, Nigeria                   covid19 oyo discharg two patient   \n",
       "4                     NaN                               condol famili surviv   \n",
       "\n",
       "   compound  neg    neu    pos sentiment  \n",
       "0    0.8176  0.0  0.452  0.548       pos  \n",
       "1    0.6486  0.0  0.602  0.398       pos  \n",
       "2    0.2732  0.0  0.851  0.149       pos  \n",
       "3    0.0000  0.0  1.000  0.000       neu  \n",
       "4    0.0000  0.0  1.000  0.000       neu  "
      ]
     },
     "execution_count": 5,
     "metadata": {},
     "output_type": "execute_result"
    }
   ],
   "source": [
    "covid_df.head()"
   ]
  },
  {
   "cell_type": "code",
   "execution_count": 6,
   "id": "02f51818-b8a0-4118-9e76-62cad8bfcefb",
   "metadata": {
    "is_executing": true
   },
   "outputs": [],
   "source": [
    "columns_to_drop = ['id', 'created_at', 'source', 'original_text', 'lang', 'favorite_count', 'retweet_count', 'original_author', 'hashtags', 'user_mentions', 'place', 'compound', 'neg', 'neu', 'pos']\n",
    "covid_df = covid_df.drop(columns=columns_to_drop)"
   ]
  },
  {
   "cell_type": "code",
   "execution_count": 7,
   "id": "03bbc894-c74e-44e7-a9d0-cc0c4966f01c",
   "metadata": {
    "is_executing": true
   },
   "outputs": [
    {
     "data": {
      "text/html": [
       "<div>\n",
       "<style scoped>\n",
       "    .dataframe tbody tr th:only-of-type {\n",
       "        vertical-align: middle;\n",
       "    }\n",
       "\n",
       "    .dataframe tbody tr th {\n",
       "        vertical-align: top;\n",
       "    }\n",
       "\n",
       "    .dataframe thead th {\n",
       "        text-align: right;\n",
       "    }\n",
       "</style>\n",
       "<table border=\"1\" class=\"dataframe\">\n",
       "  <thead>\n",
       "    <tr style=\"text-align: right;\">\n",
       "      <th></th>\n",
       "      <th>clean_tweet</th>\n",
       "      <th>sentiment</th>\n",
       "    </tr>\n",
       "  </thead>\n",
       "  <tbody>\n",
       "    <tr>\n",
       "      <th>0</th>\n",
       "      <td>call leader help protect refuge covid19 provid...</td>\n",
       "      <td>pos</td>\n",
       "    </tr>\n",
       "    <tr>\n",
       "      <th>1</th>\n",
       "      <td>ogun state support cbn nirsal covid19 target c...</td>\n",
       "      <td>pos</td>\n",
       "    </tr>\n",
       "    <tr>\n",
       "      <th>2</th>\n",
       "      <td>polic offici base namahadi polic station busi ...</td>\n",
       "      <td>pos</td>\n",
       "    </tr>\n",
       "    <tr>\n",
       "      <th>3</th>\n",
       "      <td>covid19 oyo discharg two patient</td>\n",
       "      <td>neu</td>\n",
       "    </tr>\n",
       "    <tr>\n",
       "      <th>4</th>\n",
       "      <td>condol famili surviv</td>\n",
       "      <td>neu</td>\n",
       "    </tr>\n",
       "  </tbody>\n",
       "</table>\n",
       "</div>"
      ],
      "text/plain": [
       "                                         clean_tweet sentiment\n",
       "0  call leader help protect refuge covid19 provid...       pos\n",
       "1  ogun state support cbn nirsal covid19 target c...       pos\n",
       "2  polic offici base namahadi polic station busi ...       pos\n",
       "3                   covid19 oyo discharg two patient       neu\n",
       "4                               condol famili surviv       neu"
      ]
     },
     "execution_count": 7,
     "metadata": {},
     "output_type": "execute_result"
    }
   ],
   "source": [
    "covid_df.head(5)"
   ]
  },
  {
   "cell_type": "code",
   "execution_count": 8,
   "id": "43ff5bc0-2a44-42da-8c1e-c6c19c9d0eb9",
   "metadata": {
    "is_executing": true
   },
   "outputs": [
    {
     "data": {
      "text/html": [
       "<div>\n",
       "<style scoped>\n",
       "    .dataframe tbody tr th:only-of-type {\n",
       "        vertical-align: middle;\n",
       "    }\n",
       "\n",
       "    .dataframe tbody tr th {\n",
       "        vertical-align: top;\n",
       "    }\n",
       "\n",
       "    .dataframe thead th {\n",
       "        text-align: right;\n",
       "    }\n",
       "</style>\n",
       "<table border=\"1\" class=\"dataframe\">\n",
       "  <thead>\n",
       "    <tr style=\"text-align: right;\">\n",
       "      <th></th>\n",
       "      <th>clean_tweet</th>\n",
       "      <th>sentiment</th>\n",
       "    </tr>\n",
       "  </thead>\n",
       "  <tbody>\n",
       "    <tr>\n",
       "      <th>143898</th>\n",
       "      <td>congratul studi one year master degre</td>\n",
       "      <td>neu</td>\n",
       "    </tr>\n",
       "    <tr>\n",
       "      <th>143899</th>\n",
       "      <td>apolog fear anxieti caus claim surviv rate acq...</td>\n",
       "      <td>neg</td>\n",
       "    </tr>\n",
       "    <tr>\n",
       "      <th>143900</th>\n",
       "      <td>anoth meat process outbreak time</td>\n",
       "      <td>neu</td>\n",
       "    </tr>\n",
       "    <tr>\n",
       "      <th>143901</th>\n",
       "      <td>knew covid19 would spread trump prais els rall...</td>\n",
       "      <td>pos</td>\n",
       "    </tr>\n",
       "    <tr>\n",
       "      <th>143902</th>\n",
       "      <td>friend stori miss main point move forward open...</td>\n",
       "      <td>pos</td>\n",
       "    </tr>\n",
       "  </tbody>\n",
       "</table>\n",
       "</div>"
      ],
      "text/plain": [
       "                                              clean_tweet sentiment\n",
       "143898              congratul studi one year master degre       neu\n",
       "143899  apolog fear anxieti caus claim surviv rate acq...       neg\n",
       "143900                  anoth meat process outbreak time        neu\n",
       "143901  knew covid19 would spread trump prais els rall...       pos\n",
       "143902  friend stori miss main point move forward open...       pos"
      ]
     },
     "execution_count": 8,
     "metadata": {},
     "output_type": "execute_result"
    }
   ],
   "source": [
    "covid_df.tail()"
   ]
  },
  {
   "cell_type": "code",
   "execution_count": 11,
   "id": "14aa9bfe-a76e-4304-8f7f-37f997ba52ac",
   "metadata": {
    "is_executing": true
   },
   "outputs": [
    {
     "name": "stdout",
     "output_type": "stream",
     "text": [
      "92250\n",
      "80384\n",
      "115172\n"
     ]
    }
   ],
   "source": [
    "covid_df['clean_tweet'] = covid_df['clean_tweet'].fillna('')\n",
    "covid_df['clean_tweet'] = covid_df['clean_tweet'].apply(lambda x: x.lower())\n",
    "covid_df['clean_tweet'] = covid_df['clean_tweet'].apply((lambda x: re.sub('[^a-zA-z0-9\\s]','',x)))\n",
    "\n",
    "print(covid_df[ covid_df['sentiment'] == 'pos'].size)\n",
    "print(covid_df[ covid_df['sentiment'] == 'neg'].size)\n",
    "print(covid_df[ covid_df['sentiment'] == 'neu'].size)\n",
    "\n",
    "covid_df['clean_tweet'] = covid_df['clean_tweet'].str.replace('rt', ' ')\n",
    "\n",
    "max_features = 20000\n",
    "tokenizer = Tokenizer(num_words=max_features, split=' ')\n",
    "tokenizer.fit_on_texts(covid_df['clean_tweet'].values)\n",
    "X = tokenizer.texts_to_sequences(covid_df['clean_tweet'].values)\n",
    "X = pad_sequences(X,maxlen=max_sequence_length)"
   ]
  },
  {
   "cell_type": "code",
   "execution_count": 13,
   "id": "5bea4d2a-14c7-4786-ae4c-ed49cb30bcc6",
   "metadata": {
    "is_executing": true
   },
   "outputs": [
    {
     "name": "stdout",
     "output_type": "stream",
     "text": [
      "Model: \"sequential_1\"\n",
      "_________________________________________________________________\n",
      " Layer (type)                Output Shape              Param #   \n",
      "=================================================================\n",
      " embedding (Embedding)       (None, 100, 128)          2560000   \n",
      "                                                                 \n",
      " spatial_dropout1d (Spatial  (None, 100, 128)          0         \n",
      " Dropout1D)                                                      \n",
      "                                                                 \n",
      " lstm (LSTM)                 (None, 196)               254800    \n",
      "                                                                 \n",
      " dense (Dense)               (None, 3)                 591       \n",
      "                                                                 \n",
      "=================================================================\n",
      "Total params: 2815391 (10.74 MB)\n",
      "Trainable params: 2815391 (10.74 MB)\n",
      "Non-trainable params: 0 (0.00 Byte)\n",
      "_________________________________________________________________\n",
      "None\n"
     ]
    }
   ],
   "source": [
    "embed_dim = 128\n",
    "lstm_out = 196\n",
    "\n",
    "model = Sequential()\n",
    "model.add(Embedding(max_features, embed_dim,input_length = X.shape[1]))\n",
    "model.add(SpatialDropout1D(0.4))\n",
    "model.add(LSTM(lstm_out, dropout=0.2, recurrent_dropout=0.2))\n",
    "model.add(Dense(3,activation='softmax'))\n",
    "model.compile(loss = 'categorical_crossentropy', optimizer='adam',metrics = ['accuracy'])\n",
    "print(model.summary())"
   ]
  },
  {
   "cell_type": "code",
   "execution_count": 14,
   "id": "6c05486d-0705-40cc-ac08-2b787a1ae9f7",
   "metadata": {
    "is_executing": true
   },
   "outputs": [
    {
     "name": "stdout",
     "output_type": "stream",
     "text": [
      "(100732, 100) (100732, 3)\n",
      "(43171, 100) (43171, 3)\n"
     ]
    }
   ],
   "source": [
    "Y = pd.get_dummies(covid_df['sentiment']).values\n",
    "X_train, X_test, Y_train, Y_test = train_test_split(X,Y, test_size = 0.3, random_state = 42)\n",
    "print(X_train.shape,Y_train.shape)\n",
    "print(X_test.shape,Y_test.shape)"
   ]
  },
  {
   "cell_type": "code",
   "execution_count": 15,
   "id": "b224bbce-f6cc-4a1d-ae39-59ddce194303",
   "metadata": {
    "is_executing": true
   },
   "outputs": [
    {
     "name": "stdout",
     "output_type": "stream",
     "text": [
      "Epoch 1/2\n",
      "3148/3148 - 797s - loss: 0.2024 - accuracy: 0.9301 - 797s/epoch - 253ms/step\n",
      "Epoch 2/2\n",
      "3148/3148 - 796s - loss: 0.0698 - accuracy: 0.9808 - 796s/epoch - 253ms/step\n"
     ]
    },
    {
     "data": {
      "text/plain": [
       "<keras.src.callbacks.History at 0x1a2453d7350>"
      ]
     },
     "execution_count": 15,
     "metadata": {},
     "output_type": "execute_result"
    }
   ],
   "source": [
    "batch_size = 32\n",
    "model.fit(X_train, Y_train, epochs = 2, batch_size=batch_size, verbose = 2)"
   ]
  },
  {
   "cell_type": "code",
   "execution_count": 16,
   "id": "020434ae-c26f-44e3-8d7a-2532dfaa8cd2",
   "metadata": {
    "is_executing": true
   },
   "outputs": [
    {
     "name": "stdout",
     "output_type": "stream",
     "text": [
      "881/881 - 30s - loss: 0.0674 - accuracy: 0.9814 - 30s/epoch - 34ms/step\n",
      "score: 0.07\n",
      "acc: 0.98\n"
     ]
    }
   ],
   "source": [
    "validation_size = 15000\n",
    "\n",
    "X_validate = X_test[-validation_size:]\n",
    "Y_validate = Y_test[-validation_size:]\n",
    "X_test = X_test[:-validation_size]\n",
    "Y_test = Y_test[:-validation_size]\n",
    "score,acc = model.evaluate(X_test, Y_test, verbose = 2, batch_size = batch_size)\n",
    "print(\"score: %.2f\" % (score))\n",
    "print(\"acc: %.2f\" % (acc))"
   ]
  },
  {
   "cell_type": "code",
   "execution_count": 17,
   "id": "8e8f2cec-be2a-4e64-af23-70a6fe2429d8",
   "metadata": {
    "is_executing": true
   },
   "outputs": [],
   "source": [
    "model.save('sentiment_analysis_model.keras')"
   ]
  },
  {
   "cell_type": "code",
   "execution_count": 18,
   "id": "5918dd02-804f-4d15-8efc-f8d5a2f90cd3",
   "metadata": {
    "is_executing": true
   },
   "outputs": [],
   "source": [
    "from tensorflow.keras.models import load_model\n",
    "\n",
    "# Load the saved model from the HDF5 file\n",
    "loaded_model = load_model('sentiment_analysis_model.keras')"
   ]
  },
  {
   "cell_type": "code",
   "execution_count": 19,
   "id": "a783ab33-e009-49b9-9937-d0ea7c7f6ae8",
   "metadata": {
    "is_executing": true,
    "scrolled": true
   },
   "outputs": [
    {
     "name": "stdout",
     "output_type": "stream",
     "text": [
      "1/1 [==============================] - 0s 305ms/step\n",
      "Predicted sentiment: neutral\n"
     ]
    }
   ],
   "source": [
    "\n",
    "new_text = [\"The covid19 is in my country.\"]  # Replace with your new data\n",
    "new_data = tokenizer.texts_to_sequences(new_text)  # Tokenize and preprocess the new text\n",
    "new_data = pad_sequences(new_data, maxlen=max_sequence_length)  # Pad to match the model's input shape\n",
    "\n",
    "# Make predictions\n",
    "predictions = loaded_model.predict(new_data)\n",
    "\n",
    "# Interpret predictions (e.g., convert class probabilities to labels)\n",
    "sentiment_labels = ['negative', 'neutral', 'positive']  # Replace with your label names\n",
    "predicted_label = sentiment_labels[predictions.argmax()]\n",
    "\n",
    "print(\"Predicted sentiment:\", predicted_label)"
   ]
  },
  {
   "cell_type": "code",
   "execution_count": 20,
   "id": "8c35b4e7-a0b1-4cb2-909f-fff73216651d",
   "metadata": {
    "is_executing": true
   },
   "outputs": [],
   "source": [
    "from flask import Flask, request, jsonify\n",
    "from keras.models import load_model\n",
    "from keras.preprocessing.text import Tokenizer\n",
    "from keras.preprocessing.sequence import pad_sequences"
   ]
  },
  {
   "cell_type": "code",
   "execution_count": 21,
   "id": "967c8eb9-f80d-4005-a5bb-46f61e307593",
   "metadata": {
    "is_executing": true
   },
   "outputs": [],
   "source": [
    "app = Flask(__name__)"
   ]
  },
  {
   "cell_type": "code",
   "execution_count": 22,
   "id": "1e46a164-4996-4841-9165-2c483f8c717f",
   "metadata": {
    "is_executing": true
   },
   "outputs": [],
   "source": [
    "model = load_model('sentiment_analysis_model.keras')"
   ]
  },
  {
   "cell_type": "code",
   "execution_count": 23,
   "id": "51e56e3f-4cb9-4af8-b835-0558c00681b2",
   "metadata": {
    "is_executing": true
   },
   "outputs": [],
   "source": [
    "tokenizer = Tokenizer(num_words=20000)\n",
    "tokenizer.fit_on_texts([]) "
   ]
  },
  {
   "cell_type": "code",
   "execution_count": 24,
   "id": "ba5ddcdf-df3c-4a9a-b24d-5689091bb285",
   "metadata": {
    "is_executing": true
   },
   "outputs": [
    {
     "name": "stdout",
     "output_type": "stream",
     "text": [
      " * Serving Flask app '__main__'\n",
      " * Debug mode: on\n"
     ]
    },
    {
     "name": "stderr",
     "output_type": "stream",
     "text": [
      "WARNING: This is a development server. Do not use it in a production deployment. Use a production WSGI server instead.\n",
      " * Running on http://127.0.0.1:5000\n",
      "Press CTRL+C to quit\n",
      " * Restarting with watchdog (windowsapi)\n"
     ]
    },
    {
     "ename": "SystemExit",
     "evalue": "1",
     "output_type": "error",
     "traceback": [
      "An exception has occurred, use %tb to see the full traceback.\n",
      "\u001b[1;31mSystemExit\u001b[0m\u001b[1;31m:\u001b[0m 1\n"
     ]
    },
    {
     "name": "stderr",
     "output_type": "stream",
     "text": [
      "C:\\Users\\ritam\\AppData\\Roaming\\Python\\Python311\\site-packages\\IPython\\core\\interactiveshell.py:3516: UserWarning: To exit: use 'exit', 'quit', or Ctrl-D.\n",
      "  warn(\"To exit: use 'exit', 'quit', or Ctrl-D.\", stacklevel=1)\n"
     ]
    }
   ],
   "source": [
    "@app.route('/custom_endpoint', methods=['POST'])\n",
    "def predict_sentiment():\n",
    "    try:\n",
    "        # Get the text data from the request\n",
    "        data = request.get_json()\n",
    "        text = data['text']\n",
    "\n",
    "        # Preprocess the text\n",
    "        sequence = tokenizer.texts_to_sequences([text])\n",
    "        padded_sequence = pad_sequences(sequence, maxlen=100)  # Adjust maxlen as needed\n",
    "\n",
    "        # Make predictions\n",
    "        prediction = model.predict(padded_sequence)\n",
    "        sentiment_labels = ['negative', 'neutral', 'positive']  # Define your labels\n",
    "        predicted_label = sentiment_labels[prediction.argmax()]\n",
    "\n",
    "        # Return the result as JSON\n",
    "        return jsonify({'result': 'Prediction result'})\n",
    "    except Exception as e:\n",
    "        return jsonify({'error': str(e)})\n",
    "\n",
    "if __name__ == '__main__':\n",
    "    app.run(debug=True)"
   ]
  },
  {
   "cell_type": "code",
   "execution_count": null,
   "id": "20fe4dac-451b-4e21-a4af-c2e745ac141f",
   "metadata": {
    "is_executing": true
   },
   "outputs": [],
   "source": []
  }
 ],
 "metadata": {
  "kernelspec": {
   "display_name": "Python 3 (ipykernel)",
   "language": "python",
   "name": "python3"
  },
  "language_info": {
   "codemirror_mode": {
    "name": "ipython",
    "version": 3
   },
   "file_extension": ".py",
   "mimetype": "text/x-python",
   "name": "python",
   "nbconvert_exporter": "python",
   "pygments_lexer": "ipython3",
   "version": "3.11.4"
  }
 },
 "nbformat": 4,
 "nbformat_minor": 5
}
